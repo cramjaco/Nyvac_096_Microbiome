{
 "cells": [
  {
   "cell_type": "markdown",
   "metadata": {},
   "source": [
    "The goal of this Notebook is to take the parts of NovemberPhyloProc.ipynb that I expect to go into the actual manuscript."
   ]
  },
  {
   "cell_type": "markdown",
   "metadata": {},
   "source": [
    "# Figure Outline\n",
    "\n",
    "* Figure 1. Antibodies over time.\n",
    "\n",
    "* Figure 2. Weighted unifrac PCoA\n",
    "\n",
    "* Table 1. Kernel regression and weighted unifrac 1 test - binomial\n",
    "\n",
    "* Table S1. Kernel regression and weighted unifrac 1 test - gaussian\n",
    "\n",
    "* Table S2. Weighted unifrac components 2-N\n",
    "\n",
    "* Figure S1. Jensen Shannon at different agglomeration levels.\n",
    "\n",
    "* Figure S2. Statistically significant (p< 0.05, q < 0.2) family genus and species abundances (clr transformed) regressed against weighted unifrac 1.\n",
    "\n",
    "* Table S3. All family - genus and species vs antibody vs glm scores.\n",
    "\n",
    "* Figure 3. Stacked bars of key groups ordered by weighted unifrac axis 1.\n",
    "\n",
    "* Figure S3. Groups associated with IgGs.\n",
    "\n",
    "* Figure 4. Proportionality heat-map\n",
    "\n",
    "* Other supplements: The entire data table\n",
    "    * Basically the components of psN2, except the tree?\n",
    "    * Or can I just release the input data files?"
   ]
  },
  {
   "cell_type": "markdown",
   "metadata": {},
   "source": [
    "3/20/2017\n",
    "Re-ran whole pipeline end-to-end. Hits on everything (including igg gp41 0 day) except only trending on gp41 Month 6.5. However I don't see family level groups for gp41 that relate to community structure (q < 0.2, p < 0.05). I may just try running everything end to end a few more times to see what happens. This because I want to see how consistant (or otherwise) the results are between runs.\n",
    "Also, I'm going to start setting seeds now."
   ]
  },
  {
   "cell_type": "markdown",
   "metadata": {},
   "source": [
    "# Loading libraries, functions and data"
   ]
  },
  {
   "cell_type": "markdown",
   "metadata": {},
   "source": [
    "## Libraries"
   ]
  },
  {
   "cell_type": "code",
   "execution_count": 1,
   "metadata": {},
   "outputs": [],
   "source": [
    "# only use library paths in the anaconda environment\n",
    "# this doesn't seem to help matters\n",
    ".libPaths(grep('anaconda3', .libPaths(), value = T))"
   ]
  },
  {
   "cell_type": "code",
   "execution_count": 2,
   "metadata": {},
   "outputs": [
    {
     "data": {
      "text/html": [
       "'/home/jcram/Programs/anaconda3/envs/nyvac-lab-2/lib/R/library'"
      ],
      "text/latex": [
       "'/home/jcram/Programs/anaconda3/envs/nyvac-lab-2/lib/R/library'"
      ],
      "text/markdown": [
       "'/home/jcram/Programs/anaconda3/envs/nyvac-lab-2/lib/R/library'"
      ],
      "text/plain": [
       "[1] \"/home/jcram/Programs/anaconda3/envs/nyvac-lab-2/lib/R/library\""
      ]
     },
     "metadata": {},
     "output_type": "display_data"
    }
   ],
   "source": [
    ".libPaths()"
   ]
  },
  {
   "cell_type": "code",
   "execution_count": 3,
   "metadata": {},
   "outputs": [
    {
     "data": {
      "text/plain": [
       "               _                           \n",
       "platform       x86_64-pc-linux-gnu         \n",
       "arch           x86_64                      \n",
       "os             linux-gnu                   \n",
       "system         x86_64, linux-gnu           \n",
       "status                                     \n",
       "major          3                           \n",
       "minor          4.1                         \n",
       "year           2017                        \n",
       "month          06                          \n",
       "day            30                          \n",
       "svn rev        72865                       \n",
       "language       R                           \n",
       "version.string R version 3.4.1 (2017-06-30)\n",
       "nickname       Single Candle               "
      ]
     },
     "metadata": {},
     "output_type": "display_data"
    }
   ],
   "source": [
    "R.version"
   ]
  },
  {
   "cell_type": "code",
   "execution_count": 4,
   "metadata": {
    "collapsed": true
   },
   "outputs": [],
   "source": [
    "# https://stackoverflow.com/questions/46354826/have-a-function-that-calls-library-and-takes-either-a-package-or-its-name-as-inp\n",
    "\n",
    "\n",
    "# Also return package version when loading in packages\n",
    "# accept strings or functions\n",
    "libver <- function(pac){\n",
    "\n",
    "    pac <- as.character(substitute(pac))\n",
    "    library(pac, character.only=TRUE)\n",
    "    packageVersion(pac)\n",
    "    }"
   ]
  },
  {
   "cell_type": "code",
   "execution_count": 5,
   "metadata": {},
   "outputs": [],
   "source": [
    "#libver(\"dada2\")\n",
    "#libver(\"ggplot2\")"
   ]
  },
  {
   "cell_type": "code",
   "execution_count": 6,
   "metadata": {},
   "outputs": [
    {
     "data": {
      "text/plain": [
       "[1] ‘1.22.3’"
      ]
     },
     "metadata": {},
     "output_type": "display_data"
    }
   ],
   "source": [
    "# Much of the data handling\n",
    "libver('phyloseq')"
   ]
  },
  {
   "cell_type": "code",
   "execution_count": 7,
   "metadata": {},
   "outputs": [
    {
     "name": "stderr",
     "output_type": "stream",
     "text": [
      "Loading tidyverse: ggplot2\n",
      "Loading tidyverse: tibble\n",
      "Loading tidyverse: tidyr\n",
      "Loading tidyverse: readr\n",
      "Loading tidyverse: purrr\n",
      "Loading tidyverse: dplyr\n",
      "Conflicts with tidy packages ---------------------------------------------------\n",
      "filter(): dplyr, stats\n",
      "lag():    dplyr, stats\n"
     ]
    },
    {
     "data": {
      "text/plain": [
       "[1] ‘1.1.1’"
      ]
     },
     "metadata": {},
     "output_type": "display_data"
    }
   ],
   "source": [
    "# A bunch of environments, including ggplot, dplyr, tidyr, and broom, which I use a lot\n",
    "libver('tidyverse')"
   ]
  },
  {
   "cell_type": "code",
   "execution_count": 8,
   "metadata": {},
   "outputs": [
    {
     "name": "stderr",
     "output_type": "stream",
     "text": [
      "\n",
      "Attaching package: ‘gridExtra’\n",
      "\n",
      "The following object is masked from ‘package:dplyr’:\n",
      "\n",
      "    combine\n",
      "\n"
     ]
    },
    {
     "data": {
      "text/plain": [
       "[1] ‘2.2.1’"
      ]
     },
     "metadata": {},
     "output_type": "display_data"
    }
   ],
   "source": [
    "# Mostly for concatenating ggplots\n",
    "library(gridExtra); packageVersion(\"gridExtra\")"
   ]
  },
  {
   "cell_type": "code",
   "execution_count": 9,
   "metadata": {},
   "outputs": [
    {
     "name": "stderr",
     "output_type": "stream",
     "text": [
      "Loading required package: permute\n",
      "Loading required package: lattice\n",
      "This is vegan 2.4-3\n"
     ]
    },
    {
     "data": {
      "text/plain": [
       "[1] ‘2.4.3’"
      ]
     },
     "metadata": {},
     "output_type": "display_data"
    }
   ],
   "source": [
    "# I use this surprisingly not a lot here.\n",
    "library(vegan); packageVersion(\"vegan\")"
   ]
  },
  {
   "cell_type": "code",
   "execution_count": 10,
   "metadata": {},
   "outputs": [],
   "source": [
    "# For making trees\n",
    "# libver('phangorn')"
   ]
  },
  {
   "cell_type": "code",
   "execution_count": 11,
   "metadata": {},
   "outputs": [],
   "source": [
    "# A prerequesite to phangorn\n",
    "# libver(\"DECIPHER\")"
   ]
  },
  {
   "cell_type": "code",
   "execution_count": 12,
   "metadata": {},
   "outputs": [],
   "source": [
    "# Some pre-processing stuff\n",
    "# libver(\"dada2\")"
   ]
  },
  {
   "cell_type": "code",
   "execution_count": 13,
   "metadata": {},
   "outputs": [],
   "source": [
    "# I usually reshape with tidyverse tools now, but melt and cast are often easier in a pinch\n",
    "# libver(\"reshape2\")"
   ]
  },
  {
   "cell_type": "code",
   "execution_count": 14,
   "metadata": {},
   "outputs": [
    {
     "ename": "ERROR",
     "evalue": "Error in library(pac, character.only = TRUE): there is no package called ‘imputeMissings’\n",
     "execution_count": 14,
     "output_type": "error",
     "traceback": [
      "Error in library(pac, character.only = TRUE): there is no package called ‘imputeMissings’\nTraceback:\n",
      "1. libver(\"imputeMissings\")",
      "2. library(pac, character.only = TRUE)   # at line 9 of file <text>",
      "3. stop(txt, domain = NA)"
     ]
    }
   ],
   "source": [
    "# For replacing NaNs without too much thought.\n",
    "libver(\"imputeMissings\")"
   ]
  },
  {
   "cell_type": "code",
   "execution_count": null,
   "metadata": {},
   "outputs": [],
   "source": [
    "# Deal with proportional data, especially useful for calculating proportionality phi\n",
    "libver('compositions')"
   ]
  },
  {
   "cell_type": "code",
   "execution_count": null,
   "metadata": {},
   "outputs": [],
   "source": [
    "# Works with tidyverse to make model output tidy\n",
    "libver('broom')"
   ]
  },
  {
   "cell_type": "code",
   "execution_count": null,
   "metadata": {},
   "outputs": [],
   "source": [
    "# Make pretty tables\n",
    "libver('knitr')\n",
    "libver('kableExtra')"
   ]
  },
  {
   "cell_type": "code",
   "execution_count": null,
   "metadata": {},
   "outputs": [],
   "source": [
    "# Let those pretty tables actually show up in a jupyter notebook\n",
    "library('IRdisplay')"
   ]
  },
  {
   "cell_type": "code",
   "execution_count": null,
   "metadata": {},
   "outputs": [],
   "source": [
    "# For bootstrapping\n",
    "libver('boot')"
   ]
  },
  {
   "cell_type": "code",
   "execution_count": null,
   "metadata": {},
   "outputs": [],
   "source": [
    "# Calculate kernel regressions\n",
    "libver(\"MiRKAT\")"
   ]
  },
  {
   "cell_type": "code",
   "execution_count": null,
   "metadata": {},
   "outputs": [],
   "source": [
    "#\n",
    "libver(\"car\")"
   ]
  },
  {
   "cell_type": "code",
   "execution_count": null,
   "metadata": {},
   "outputs": [],
   "source": [
    "#libver(mclust)"
   ]
  },
  {
   "cell_type": "code",
   "execution_count": null,
   "metadata": {},
   "outputs": [],
   "source": [
    "#libver(chemometrics)"
   ]
  },
  {
   "cell_type": "code",
   "execution_count": null,
   "metadata": {},
   "outputs": [],
   "source": [
    "libver(purrrlyr)"
   ]
  },
  {
   "cell_type": "code",
   "execution_count": null,
   "metadata": {},
   "outputs": [],
   "source": [
    "libver('qvalue')"
   ]
  },
  {
   "cell_type": "markdown",
   "metadata": {},
   "source": [
    "## Functions"
   ]
  },
  {
   "cell_type": "markdown",
   "metadata": {},
   "source": [
    "I have put the functions in a library file"
   ]
  },
  {
   "cell_type": "code",
   "execution_count": null,
   "metadata": {
    "collapsed": true
   },
   "outputs": [],
   "source": [
    "source('libraries/library096.R')"
   ]
  },
  {
   "cell_type": "markdown",
   "metadata": {},
   "source": [
    "## Data"
   ]
  },
  {
   "cell_type": "code",
   "execution_count": null,
   "metadata": {
    "collapsed": true
   },
   "outputs": [],
   "source": [
    "# Set upOriginal to false, if you want to used user-reprocessed data.\n",
    "# Results may differ slightly from those in the manuscript due to inter-run variation\n",
    "# especially in the tree-ing algorithm.\n",
    " upOriginal <- TRUE\n",
    "# upOriginal <- FALSE"
   ]
  },
  {
   "cell_type": "code",
   "execution_count": null,
   "metadata": {
    "collapsed": true
   },
   "outputs": [],
   "source": [
    "# For permutation tests, how fast do things need to run\n",
    "# 9999 for most runs, 99999 for publication quality ones suggested\n",
    "jnperm <- 99"
   ]
  },
  {
   "cell_type": "code",
   "execution_count": null,
   "metadata": {},
   "outputs": [],
   "source": [
    "# Data paths\n",
    "getwd()\n",
    "(mapping_file_path <- file.path('data', 'mapping_file_096a.csv'))\n",
    "(immune_file_path <- file.path('data', 'immune096b.csv'))\n",
    "\n",
    "if(upOriginal){\n",
    "     seqtab_file_path <- file.path('data', 'seqtab.nochimNov2017.csv')\n",
    "     taxa_file_path <- file.path('data', 'TaxaNov2017.csv')\n",
    "     tree_path <- file.path('data', 'phylogeny096NovTree.tre')\n",
    "    } else {\n",
    "     seqtab_file_path <- file.path('data1', 'seqtab.nochimMar2018.csv')\n",
    "     taxa_file_path <- file.path('data1', 'TaxaMar2018.csv')\n",
    "     tree_path <- file.path('data1', 'phylogeny096Mar2018tre.tre')\n",
    "}\n",
    "\n",
    "seqtab_file_path\n",
    "taxa_file_path\n",
    "tree_path"
   ]
  },
  {
   "cell_type": "code",
   "execution_count": null,
   "metadata": {
    "collapsed": true
   },
   "outputs": [],
   "source": [
    "# Sequence data\n",
    "seqtab.nochim.data <- read.csv(seqtab_file_path)\n",
    "\n",
    "seqtabNames = gsub('\\\\.', '-',\n",
    "    gsub('.fastq', '', seqtab.nochim.data$X)\n",
    "                   )\n",
    "\n",
    "seqtab.nochim = as.matrix(seqtab.nochim.data[,-1])\n",
    "rownames(seqtab.nochim) = seqtabNames"
   ]
  },
  {
   "cell_type": "code",
   "execution_count": null,
   "metadata": {
    "collapsed": true
   },
   "outputs": [],
   "source": [
    "# Taxa names\n",
    "taxa.data <- read.csv(taxa_file_path)\n",
    "taxa = taxa.data[,-1]\n",
    "\n",
    "## I reverse complemented the sequences to generate the taxonomy\n",
    "# (but only in this latest re-run, not the original)\n",
    "## The following undoes that reverse complement to get original sequence\n",
    "#rownames(taxa) = dada2:::rc(taxa.data[,1]) \n",
    "\n",
    "if(upOriginal){\n",
    "    rownames(taxa) = (taxa.data[,1])} else {\n",
    "    rownames(taxa) = dada2:::rc(taxa.data[,1]) \n",
    "}\n",
    "\n",
    "taxa <- as.matrix(taxa)"
   ]
  },
  {
   "cell_type": "code",
   "execution_count": null,
   "metadata": {},
   "outputs": [],
   "source": [
    "# Mapping file\n",
    "mapping.data <- read_csv(mapping_file_path) %>%\n",
    "mutate(pub_id = sapply(pub_id,  function(x) {as.numeric(gsub(\"096-\", \"\", x))}))\n",
    "#mapping = mapping.data[,-1]\n",
    "#rownames(mapping) = mapping.data[,1]\n",
    "#mapping <- as.matrix(mapping)"
   ]
  },
  {
   "cell_type": "code",
   "execution_count": null,
   "metadata": {},
   "outputs": [],
   "source": [
    "head(mapping.data)"
   ]
  },
  {
   "cell_type": "code",
   "execution_count": null,
   "metadata": {},
   "outputs": [],
   "source": [
    "# Immune Data\n",
    "immune.data0 <- read_csv(immune_file_path)\n",
    "immune.data <- mutate(immune.data0, pub_id = sapply(pub_id,  function(x) {as.numeric(gsub(\"096-\", \"\", x))}))\n",
    "levels(immune.data$antigen) <- gsub(\"[ /]\", \".\", levels(immune.data$antigen))"
   ]
  },
  {
   "cell_type": "code",
   "execution_count": null,
   "metadata": {},
   "outputs": [],
   "source": [
    "head(immune.data)"
   ]
  },
  {
   "cell_type": "code",
   "execution_count": null,
   "metadata": {
    "collapsed": true
   },
   "outputs": [],
   "source": [
    "# Phylogenetic tree\n",
    "seqs <- dada2::getSequences(seqtab.nochim)\n",
    "names(seqs) <- seqs\n",
    "\n",
    "pt <- read.tree(file=tree_path)\n",
    "\n",
    "pt2 <- phangorn::midpoint(pt)"
   ]
  },
  {
   "cell_type": "code",
   "execution_count": null,
   "metadata": {},
   "outputs": [],
   "source": [
    "immune.data$antigen %>% unique"
   ]
  },
  {
   "cell_type": "markdown",
   "metadata": {},
   "source": [
    "Save options to a variable"
   ]
  },
  {
   "cell_type": "code",
   "execution_count": null,
   "metadata": {},
   "outputs": [],
   "source": [
    "par0 <- options()"
   ]
  },
  {
   "cell_type": "markdown",
   "metadata": {},
   "source": [
    "# Pre-processing"
   ]
  },
  {
   "cell_type": "code",
   "execution_count": null,
   "metadata": {},
   "outputs": [],
   "source": [
    "## minimal sample identification data\n",
    "pub_id_key <- unique(immune.data[,c(\"pub_id\", \"rx_code\", \"ct\")])\n",
    "\n",
    "sample_sm0 <- dplyr::select(mapping.data, SampleID, pub_id, sex = Sex, muVisit = Visit, muVisitRank = visitRank)\n",
    "sample_sm <- left_join(sample_sm0, pub_id_key, by = \"pub_id\") %>%\n",
    "as.data.frame %>%\n",
    "tibble::column_to_rownames(var = \"SampleID\")\n",
    "# rownames(sample_sm)\n",
    "# head(sample_sm)"
   ]
  },
  {
   "cell_type": "code",
   "execution_count": null,
   "metadata": {
    "collapsed": true
   },
   "outputs": [],
   "source": [
    "# Make raw phyloseq object\n",
    "ot <- otu_table(seqtab.nochim, taxa_are_rows=FALSE)\n",
    "\n",
    "tt <- tax_table(taxa)\n",
    "dimnames(tt) = dimnames(taxa)\n",
    "\n",
    "spl <- sample_data(sample_sm)\n"
   ]
  },
  {
   "cell_type": "markdown",
   "metadata": {},
   "source": [
    "psN is a really raw phyloseq object\n",
    "* OTU names are given as accession numbers\n",
    "* Numbers are in total counts\n",
    "* We have samples from both time points"
   ]
  },
  {
   "cell_type": "code",
   "execution_count": null,
   "metadata": {},
   "outputs": [],
   "source": [
    "# Quite raw phyloseq object. Species names are given as accession numbers\n",
    "psN <- phyloseq(ot, tt, spl, pt2)\n",
    "\n",
    "psN"
   ]
  },
  {
   "cell_type": "markdown",
   "metadata": {},
   "source": [
    "I want to make a phyloseq object for use in essentally all of the subsequent analyses.\n",
    "Features include:\n",
    "* Some basic taxonomic pre-processing.\n",
    "    * No uncharacterized phyla.\n",
    "    * Only OTUs that show up at least 10% of the time in the final data set .\n",
    "        * Do this after filtering samples.\n",
    "* No tip-glomming. I'll save that untill later.\n",
    "* Immune data is included in the sample data table. \n",
    "    * We'll do Andrew's representitive IgGs and IgAs.\n",
    "* We only have samples from visit 1.\n",
    "* We only have samples from experemental (not control) groups."
   ]
  },
  {
   "cell_type": "code",
   "execution_count": null,
   "metadata": {},
   "outputs": [],
   "source": [
    "immune.data %>% pull(type) %>% unique"
   ]
  },
  {
   "cell_type": "code",
   "execution_count": null,
   "metadata": {
    "collapsed": true
   },
   "outputs": [],
   "source": [
    "#immune.data %>% unite(type_antigen ,type, antigen, sep = \"_\")"
   ]
  },
  {
   "cell_type": "code",
   "execution_count": null,
   "metadata": {
    "collapsed": true
   },
   "outputs": [],
   "source": [
    "immune.data %>% dplyr::select(pub_id, month, type, antigen, mag) %>% \n",
    "filter(month %in% c(0, 6.5, 12)) %>%\n",
    "unite(type_antigen, type, antigen, sep = \"_\") %>%\n",
    "unite(type_antigen_month,type_antigen, month, sep = \"_Month_\") %>%\n",
    "spread(key = type_antigen_month, value = mag, drop = TRUE) -> immune.table"
   ]
  },
  {
   "cell_type": "code",
   "execution_count": null,
   "metadata": {},
   "outputs": [],
   "source": [
    "immune.table %>% head"
   ]
  },
  {
   "cell_type": "markdown",
   "metadata": {},
   "source": [
    "## Initial Taxonomic filter.\n",
    "Some investegation suggested by the phyloseq tutorials\n",
    "to identify phyla for removal, and to identify an abundance threshold"
   ]
  },
  {
   "cell_type": "code",
   "execution_count": null,
   "metadata": {},
   "outputs": [],
   "source": [
    "psN"
   ]
  },
  {
   "cell_type": "code",
   "execution_count": null,
   "metadata": {},
   "outputs": [],
   "source": [
    "# skip the blanks\n",
    "psN %>% subset_samples(!is.na(pub_id)) %>%\n",
    "# OTUs must be characterized to phylum\n",
    "subset_taxa(!is.na(Phylum)& !Phylum %in% c(\"\", \"uncharacterized\")) -> psN_hasPhylum\n",
    "psN_hasPhylum\n",
    "# from 960 to 929 otus"
   ]
  },
  {
   "cell_type": "markdown",
   "metadata": {},
   "source": [
    "Identifying and removing phyla with very few taxa in them"
   ]
  },
  {
   "cell_type": "code",
   "execution_count": null,
   "metadata": {},
   "outputs": [],
   "source": [
    "prevdf = apply(X = otu_table(psN_hasPhylum),\n",
    "                 MARGIN = ifelse(taxa_are_rows(psN_hasPhylum), yes = 1, no = 2),\n",
    "                 FUN = function(x){sum(x > 0)})\n",
    "# Add taxonomy and total read counts to this data.frame\n",
    "prevdf = data.frame(Prevalence = prevdf,\n",
    "                      TotalAbundance = taxa_sums(psN_hasPhylum),\n",
    "                      tax_table(psN_hasPhylum))\n",
    "\n",
    "plyr::ddply(prevdf, \"Phylum\", function(df1){cbind(mean(df1$Prevalence),sum(df1$Prevalence))})"
   ]
  },
  {
   "cell_type": "code",
   "execution_count": null,
   "metadata": {},
   "outputs": [],
   "source": [
    "filterPhyla = c(\"Verrucomicrobia\", \"Tenericutes\", \"Elusimicrobia\", \"Synergistetes\")\n",
    "psN_MainPhyla = subset_taxa(psN_hasPhylum, !Phylum %in% filterPhyla)\n",
    "psN_MainPhyla"
   ]
  },
  {
   "cell_type": "code",
   "execution_count": null,
   "metadata": {},
   "outputs": [],
   "source": [
    "# Determining abundance threshold\n",
    "prevdf1 = subset(prevdf, Phylum %in% get_taxa_unique(psN_MainPhyla, \"Phylum\"))\n",
    "ggplot(prevdf1, aes(TotalAbundance, Prevalence / nsamples(psN_hasPhylum),color=Phylum)) +\n",
    "  # Include a guess for parameter\n",
    "  geom_hline(yintercept = 0.05, alpha = 0.5, linetype = 2) + geom_point(size = 2, alpha = 0.7) +\n",
    "  scale_x_log10() +  xlab(\"Total Abundance\") + ylab(\"Prevalence [Frac. Samples]\") +\n",
    "  facet_wrap(~Phylum) + theme(legend.position=\"none\")"
   ]
  },
  {
   "cell_type": "markdown",
   "metadata": {},
   "source": [
    "## Constructing psN2 \n",
    "(phyloseq object of relative abundances)\n",
    "\n",
    "And psN1 (phyloseq object of counts)"
   ]
  },
  {
   "cell_type": "code",
   "execution_count": null,
   "metadata": {},
   "outputs": [],
   "source": [
    "psN %>%\n",
    "# add all the immune data\n",
    "phylo_join(immune.table, by = \"pub_id\") %>%\n",
    "# filter to just microbiome visit 1 and experemental treatments\n",
    "subset_samples(muVisitRank == 1) %>%\n",
    "subset_samples(ct == \"T\") %>%\n",
    "# only otus from known taxa that show up frequently enough\n",
    "subset_taxa(!is.na(Phylum)& !Phylum %in% c(\"\", \"uncharacterized\")) %>%\n",
    "subset_taxa(!Phylum %in% filterPhyla) %>%\n",
    "# only otus that show up in at least 10% of samples\n",
    "prevalence_filter_taxa %>%\n",
    "# convert to relative abundance\n",
    "\n",
    "tag_phyloseq%>%\n",
    "# Instead of naming each taxon with its full sequence, we use the \"tag\" instead\n",
    "swap.phyloseq.taxnames %>%\n",
    "pass -> psN1 # Save pre relative abundance transformation\n",
    "\n",
    "# add is-male\n",
    "manColumn <- psN1 %>% sample_data %>% as('data.frame') %>% rownames_to_column  %>% mutate(isMale = testIsMaleVec(sex)) %>% dplyr::select(rowname, isMale)\n",
    "psN1 <- phylo_join(psN1, manColumn, by = 'rowname')\n",
    "\n",
    "## psN2 is like psN1 but with relative abundances\n",
    "psN1 %>%\n",
    "transform_sample_counts(function(x) {x/sum(x)}) %>%\n",
    "# The \"tag\" is a new name that takes into account the rest of the taxonomy data\n",
    "# the tag may need to be updated after any agglomeration\n",
    "pass-> psN2\n",
    "\n",
    "\n",
    "\n",
    "# Calculate weighted unifrac distances and role those in.\n",
    "psN2.wuf <- phyloseq::distance(psN2, method = \"wunifrac\")\n",
    "psN2.pcoa <- capscale(psN2.wuf ~ 1)\n",
    "psN2.pcoa.df <- psN2.pcoa %>% scores(display = \"sites\") %>%\n",
    "        as.data.frame %>% \n",
    "        rownames_to_column %>% \n",
    "        dplyr::select('rowname', 'MDS1', 'MDS2') %>%\n",
    "        mutate(rMDS1 = rank(MDS1)) %>% # rank order of MDS1\n",
    "        mutate(rrMDS1 = formatC(format = \"d\", rMDS1, flag = \"0\", width=ceiling(log10(max(rMDS1))))) %>%\n",
    "        unite(newname, rrMDS1, rowname, sep = \"_\", remove = FALSE) %>%\n",
    "        dplyr::select(-rrMDS1)\n",
    "\n",
    "psN2 %>%\n",
    "phylo_join(\n",
    "    psN2.pcoa.df,\n",
    "    by = 'rowname'\n",
    ") -> psN2\n",
    "\n",
    "## Even if the data are counts, \n",
    "## the weighted unifrac pcoa is still done on the relative abundances\n",
    "psN1 %>%\n",
    "phylo_join(\n",
    "    psN2.pcoa.df,\n",
    "    by = 'rowname'\n",
    ") -> psN1\n",
    "\n",
    "psN2\n",
    "psN1"
   ]
  },
  {
   "cell_type": "markdown",
   "metadata": {},
   "source": [
    "How many participants that provided samples didn't have a day zero sample so we had to use something else?"
   ]
  },
  {
   "cell_type": "code",
   "execution_count": null,
   "metadata": {},
   "outputs": [],
   "source": [
    "psN2 %>% sample_data %>% data.frame %>% group_by(muVisit) %>% summarize(n = length(muVisit))"
   ]
  },
  {
   "cell_type": "markdown",
   "metadata": {},
   "source": [
    "# Immune figure\n",
    "How to participants' immune profiles change over time?"
   ]
  },
  {
   "cell_type": "code",
   "execution_count": null,
   "metadata": {},
   "outputs": [],
   "source": [
    "# When were participants vaccinated?\n",
    "# Copied from protocol apendix E\n",
    "# visitno 1 is a screening visit, I assign it NaN\n",
    "dayTable = data.frame(\n",
    "    visitno = seq(from = 1, to = 14, by = 1),\n",
    "    day = c(NaN, 0, 14, 28, 42, 84, 98, 168, 182, 196, 273, 364, 455, 545),\n",
    "    month = c(NaN, 0, 0.5, 1, 1.5, 3, 3.5, 6, 6.5, 7, 9, 12, 15, 18)\n",
    ")\n",
    "vac <- data.frame(\n",
    "    visitno = c(2, 4, 6, 8)\n",
    "    )\n",
    "vac <- left_join(vac, dayTable, by = 'visitno')\n",
    "\n",
    "vac"
   ]
  },
  {
   "cell_type": "code",
   "execution_count": null,
   "metadata": {
    "collapsed": true
   },
   "outputs": [],
   "source": [
    "# Representitive antigens for further considerations\n",
    "# These are essentially zero (mag = 1) at baseline\n",
    "ants1 <- c('Con.6.gp120.B', 'ZM96.gp140', 'gp70_B.CaseA_V1_V2')\n",
    "# These have measurable baseline magnitudes\n",
    "ants2 <- c('gp41', 'p24')"
   ]
  },
  {
   "cell_type": "code",
   "execution_count": null,
   "metadata": {},
   "outputs": [],
   "source": [
    "donor.immune <-  psN2 %>% sample_data %>% as('data.frame') %>% dplyr::select(pub_id) %>%\n",
    "left_join(immune.data, by = 'pub_id')\n",
    "donor.immune %>% head"
   ]
  },
  {
   "cell_type": "code",
   "execution_count": null,
   "metadata": {
    "collapsed": true
   },
   "outputs": [],
   "source": [
    "psN %>% sample_data %>%\n",
    "as('data.frame') %>% \n",
    "filter(!is.na(pub_id)) %>%\n",
    "pull(pub_id) %>%\n",
    "unique %>%\n",
    "pass -> microbiomeCohort"
   ]
  },
  {
   "cell_type": "code",
   "execution_count": null,
   "metadata": {},
   "outputs": [],
   "source": [
    "immune.data %>% filter(pub_id %in% microbiomeCohort) %>%\n",
    "pass -> donor.immune\n",
    "\n",
    "donor.immune %>% head"
   ]
  },
  {
   "cell_type": "code",
   "execution_count": null,
   "metadata": {
    "scrolled": true
   },
   "outputs": [],
   "source": [
    "iggplot <- immune.data %>%\n",
    "mutate(inCohort = pub_id %in% microbiomeCohort) %>%\n",
    "filter(type == 'IgG', antigen %in% c(ants1, ants2)) %>%\n",
    "mutate(antigen = factor(antigen, levels = c(ants2, ants1))) %>% # reorder facets\n",
    "ggplot(aes(x = month, y =mag, group = pub_id, colour = inCohort, alpha = inCohort)) +\n",
    "geom_line() +\n",
    "geom_point() +\n",
    "geom_rug(data = vac, aes(x = month), inherit.aes = F, color = 'blue') +\n",
    "facet_grid(antigen ~ rx_code, labeller = label_wrap_gen()) +\n",
    "theme_bw() +\n",
    "theme(strip.text.y = element_text(angle = 0),\n",
    "      axis.text.x = element_text(angle = 90, hjust = 1)) +\n",
    "scale_y_log10(breaks = 10^(0:5)) +\n",
    "scale_colour_manual(values = c(\"black\", \"red\")) +\n",
    "scale_alpha_manual(values = c(.6, 1))\n",
    "\n",
    "iggplot\n",
    "\n",
    "ggsave('figures/useiggsAllParticipants.png')\n",
    "# To fix. Control groups don't show up in this version."
   ]
  },
  {
   "cell_type": "code",
   "execution_count": null,
   "metadata": {
    "scrolled": true
   },
   "outputs": [],
   "source": [
    "iggplot <- immune.data %>%\n",
    "mutate(inCohort = pub_id %in% microbiomeCohort) %>%\n",
    "filter(type %in% c('IgA', 'CD4+') & antigen %in% c(ants2, 'ANY.ENV.PTEG'))%>%\n",
    "mutate(antigen = factor(antigen, levels = c(ants2, 'ANY.ENV.PTEG'))) %>% # reorder facets\n",
    "ggplot(aes(x = month, y =mag, group = pub_id, colour = inCohort, alpha = inCohort)) +\n",
    "geom_line() +\n",
    "geom_point() +\n",
    "geom_rug(data = vac, aes(x = month), inherit.aes = F, color = 'blue') +\n",
    "facet_grid(antigen ~ rx_code, labeller = label_wrap_gen(), scales = 'free_y') +\n",
    "theme_bw() +\n",
    "theme(strip.text.y = element_text(angle = 0),\n",
    "      axis.text.x = element_text(angle = 90, hjust = 1)) +\n",
    "scale_y_log10(breaks = 10^c(\n",
    "    seq(from = -2, to = 0, by = 0.25), seq(from = 0, to = 5, by = 1)\n",
    "), labels = function(x) round(as.numeric(x), digits=3)) +\n",
    "scale_colour_manual(values = c(\"black\", \"red\")) +\n",
    "scale_alpha_manual(values = c(.6, 1))\n",
    "\n",
    "iggplot\n",
    "\n",
    "ggsave('figures/useIgACD4AllParticipants.png')\n",
    "# To fix. Control groups don't show up in this version."
   ]
  },
  {
   "cell_type": "code",
   "execution_count": null,
   "metadata": {
    "scrolled": true
   },
   "outputs": [],
   "source": [
    "iggplot <- donor.immune %>% filter(type == 'IgG', antigen %in% c(ants1, ants2)) %>%\n",
    "mutate(antigen = factor(antigen, levels = c(ants2, ants1))) %>% # reorder facets\n",
    "ggplot(aes(x = month, y =mag, group = pub_id)) + geom_point(alpha = 0.6) + geom_line(alpha = 0.4) +\n",
    "geom_rug(data = vac, aes(x = month), inherit.aes = F, color = 'blue') +\n",
    "facet_grid(antigen ~ rx_code, labeller = label_wrap_gen()) +\n",
    "theme_bw() + theme(strip.text.y = element_text(angle = 0), axis.text.x = element_text(angle = 90, hjust = 1)) +\n",
    "scale_y_log10(breaks = 10^(0:5))\n",
    "iggplot\n",
    "ggsave('figures/useiggs.png')\n",
    "# To fix. Control groups don't show up in this version."
   ]
  },
  {
   "cell_type": "markdown",
   "metadata": {},
   "source": [
    "## Number of participants per group"
   ]
  },
  {
   "cell_type": "markdown",
   "metadata": {},
   "source": [
    "### All participants"
   ]
  },
  {
   "cell_type": "code",
   "execution_count": null,
   "metadata": {},
   "outputs": [],
   "source": [
    "immune.data %>% \n",
    "group_by(rx_code) %>%\n",
    "summarize(Unique_ids = n_distinct(pub_id))"
   ]
  },
  {
   "cell_type": "markdown",
   "metadata": {},
   "source": [
    "### Participants with microbiome data"
   ]
  },
  {
   "cell_type": "code",
   "execution_count": null,
   "metadata": {},
   "outputs": [],
   "source": [
    "donor.immune %>% \n",
    "group_by(rx_code) %>%\n",
    "summarize(Unique_ids = n_distinct(pub_id))"
   ]
  },
  {
   "cell_type": "markdown",
   "metadata": {},
   "source": [
    "# Weighted Unifrac analysis."
   ]
  },
  {
   "cell_type": "code",
   "execution_count": null,
   "metadata": {
    "collapsed": true
   },
   "outputs": [],
   "source": [
    "psN2.wuf <- phyloseq::distance(psN2, method = \"wunifrac\")"
   ]
  },
  {
   "cell_type": "code",
   "execution_count": null,
   "metadata": {
    "collapsed": true
   },
   "outputs": [],
   "source": [
    "psN2.pcoa <- capscale(psN2.wuf ~ 1)"
   ]
  },
  {
   "cell_type": "code",
   "execution_count": null,
   "metadata": {},
   "outputs": [],
   "source": [
    "# How much variance si explained by each weighted unifrac axis\n",
    "# Note, ten axes cover 95% of the variance. \n",
    "# I'm not going to look beyond that for any test.\n",
    "data.frame(eig = psN2.pcoa$CA$eig) %>%\n",
    "rownames_to_column('axis') %>%\n",
    "mutate(proportion = eig/sum(eig)) %>%\n",
    "mutate(cumulative = cumsum(proportion))"
   ]
  },
  {
   "cell_type": "code",
   "execution_count": null,
   "metadata": {},
   "outputs": [],
   "source": [
    "# Note the square-root scale for gp120\n",
    "my_breaks = c(1, 75, 250, 500, 1000,2000)\n",
    "wuford_gp41 <- plot_ordination(psN2 %>%\n",
    "                           mutate_phyloseq_sample(\n",
    "                               mc41 = factor(medcode_hl(IgG_gp41_Month_0)),\n",
    "                                                log120 = (IgG_Con.6.gp120.B_Month_6.5)),\n",
    "                 psN2.pcoa) + coord_fixed(sqrt(psN2.pcoa$CA$eig[2]/psN2.pcoa$CA$eig[1])) +\n",
    "geom_point(aes(fill = mc41), size = 5, stroke = 1, shape = 21) + \n",
    "#scale_shape_manual(name = 'Sex', values = c(21, 24)) +\n",
    " viridis::scale_fill_viridis(name = 'gp41 Baseline', direction =-1, discrete = TRUE) +\n",
    "#scale_fill_manual(name = 'gp41 Primary', values = c('orange', 'blue')) + \n",
    "theme_bw()\n",
    "\n",
    "# Note the square-root scale for gp120\n",
    "\n",
    "my_breaks = c(1, 75, 250, 500, 1000,2000)\n",
    "wuford_gp120 <- plot_ordination(psN2 %>%\n",
    "                           mutate_phyloseq_sample(\n",
    "                               mc41 = factor(medcode_hl(IgG_gp41_Month_0)),\n",
    "                                                log120 = (IgG_Con.6.gp120.B_Month_12)),\n",
    "                 psN2.pcoa) + coord_fixed(sqrt(psN2.pcoa$CA$eig[2]/psN2.pcoa$CA$eig[1])) +\n",
    "geom_point(aes(fill = log120), size = 5, stroke = 1, shape = 21) + \n",
    "viridis::scale_fill_viridis(name = 'gp120 Final', direction = 1, trans = \"sqrt\",\n",
    "                           breaks = my_breaks, labels = my_breaks) +\n",
    "#scale_colour_manual(name = 'gp41 Primary', values = c('black', 'grey70')) + \n",
    "theme_bw()\n",
    "\n",
    "par <- options()\n",
    "options(repr.plot.width=11, repr.plot.height= 4)\n",
    "g <- grid.arrange(wuford_gp41, wuford_gp120, ncol = 2)\n",
    "#g\n",
    "ggsave('figures/wunifrac_Agp41_Bgp120_pcoa.png', g, width = 8, height = 4)"
   ]
  },
  {
   "cell_type": "markdown",
   "metadata": {},
   "source": [
    "# Kernel Regression and Weighted Unifrac GLM"
   ]
  },
  {
   "cell_type": "code",
   "execution_count": null,
   "metadata": {
    "collapsed": true
   },
   "outputs": [],
   "source": [
    "wufKN2 <- D2K(as.matrix(psN2.wuf))"
   ]
  },
  {
   "cell_type": "code",
   "execution_count": null,
   "metadata": {
    "collapsed": true
   },
   "outputs": [],
   "source": [
    "muDoners <- unique(sample_data(psN2)$pub_id)"
   ]
  },
  {
   "cell_type": "code",
   "execution_count": null,
   "metadata": {},
   "outputs": [],
   "source": [
    "immune.data %>%\n",
    "filter(pub_id %in% muDoners) %>%\n",
    "filter(\n",
    "    (type == 'IgG' & \n",
    "    antigen %in% ants1 &\n",
    "    month %in% c(6.5,12)\n",
    "    ) |\n",
    "    (type %in% c('IgG', 'IgA') &\n",
    "     antigen %in% ants2 &\n",
    "     month %in% c(0,6.5,12)\n",
    "    ) |\n",
    "    type == 'CD4+' &\n",
    "    antigen == 'ANY.ENV.PTEG' &\n",
    "    month %in% c(6.5, 12)\n",
    "      )-> use.immune\n",
    "head(use.immune)"
   ]
  },
  {
   "cell_type": "code",
   "execution_count": null,
   "metadata": {
    "collapsed": true
   },
   "outputs": [],
   "source": [
    "# Do permanova and related tests to a variable of interest\n",
    "# This function is pretty specific to this analysis, so I'm going to leave it\n",
    "# here in the notebook file\n",
    "CapVar <- function(x, nperm = 9999, transformation = medcode2, family = 'binomial'){\n",
    "    ## Pull out the needed data\n",
    "    \n",
    "    psN2.wMDS <- psN2 %>% phylo_join(scores(psN2.pcoa, display = \"sites\", choices = 1:10) %>%\n",
    "                    as.data.frame %>% rownames_to_column, by = 'rowname')\n",
    "    \n",
    "    medWuf <- NA\n",
    "    rankWuf <- NA\n",
    "    locPS <- phylo_join(psN2.wMDS, x, by = 'pub_id') \n",
    "    ydata0 <- sample_data(locPS)$mag\n",
    "    yna <- is.na(ydata0)\n",
    "    #loc.wuf <- wufKN2\n",
    "    #loc.jsd <- jsdKN2\n",
    "    ydata <- ydata0\n",
    "    \n",
    "    ydata <- ydata0[!yna]\n",
    "    loc.wuf2 <- psN2.wuf %>% as.matrix %>% .[!yna, !yna]\n",
    "    \n",
    "    medWuf <- adonis(loc.wuf2 ~ transformation(ydata), permutations = nperm)\n",
    "    #medWuf$aov.tab[1,c('R2', 'Pr(>F)')]\n",
    "    \n",
    "    ## Capscale returns the same results as adonis (permanova), but also gives some other interesting results\n",
    "    \n",
    "    medWufCap <- capscale(loc.wuf2 ~ transformation(ydata))\n",
    "    capanova <- anova(medWufCap, permutations = nperm)\n",
    "    \n",
    "    samDf <- locPS %>% sample_data %>% as('data.frame') %>% rownames_to_column %>%\n",
    "     left_join(\n",
    "        vegan::scores(medWufCap, display = 'sites') %>% as.data.frame %>% dplyr::select(CAP1) %>%\n",
    "        rownames_to_column, by = 'rowname') %>% .[!yna,]\n",
    "    \n",
    "#     # Is giving only positive results with CAP1, not sure why\n",
    "#     glmAnova <- glm(medcode(ydata) ~  MDS1 + CAP1, data = samDf, family = 'binomial') %>% anova(test = \"Chisq\")\n",
    "    loc_glm <- glm(transformation(ydata) ~  MDS1, data = samDf, family = family)\n",
    "    glmAnova <- loc_glm %>% anova(test = \"Chisq\")\n",
    "    #glmAnova['CAP1', 'Deviance']/out_capanova['NULL', 'Resid. Dev']\n",
    "    \n",
    "    ## check against mirkat\n",
    "    loc.Kwuf2 <- wufKN2[!yna, !yna]\n",
    "    mirkatP <- MiRKAT(y = transformation(ydata), Ks = loc.Kwuf2, out_type = \"C\", method = 'permutation', nperm = nperm)\n",
    "    \n",
    "    #list(medWuf, capanova, mirkatP)\n",
    "    \n",
    "    pred_pct <- predict(loc_glm, type = \"response\")\n",
    "    pred_01 <- as.numeric(predict(loc_glm, type = \"response\") > 0.5)\n",
    "    \n",
    "    accuracy <- mean(transformation(ydata) == pred_01)\n",
    "    \n",
    "        null_glm <- update(loc_glm, ~1)\n",
    "\n",
    "    # Canonical caluclation of McFadden's R2 for the GLM\n",
    "    McFadden = 1- (logLik(loc_glm)/ logLik(null_glm))\n",
    "    \n",
    "    # A GLM of all weighted unifrac components\n",
    "    \n",
    "    \n",
    "    data.frame(\n",
    "        caps.P = capanova['Model', 'Pr(>F)'],\n",
    "        adonisP = medWuf$aov.tab[1, 'Pr(>F)'],\n",
    "        mir.P = mirkatP,\n",
    "        caps.F = capanova['Model', 'F'],\n",
    "        caps.R2 = medWufCap$CCA$tot.chi/medWufCap$tot.chi, \n",
    "        wuf1.P = glmAnova['MDS1', 'Pr(>Chi)'],\n",
    "        wuf1.DR = glmAnova['MDS1', 'Deviance'] / glmAnova['NULL', 'Resid. Dev'],\n",
    "        wuf1.McFadden = McFadden,\n",
    "        accuracy,\n",
    "        wuf1.coef = coef(loc_glm)[2]\n",
    "        #cap1.P = glmAnova['CAP1', 'Pr(>Chi)'],\n",
    "        #cap1.R2 = glmAnova['CAP1', 'Deviance'] / glmAnova['NULL', 'Resid. Dev']\n",
    "    )\n",
    "    }\n",
    "    "
   ]
  },
  {
   "cell_type": "code",
   "execution_count": null,
   "metadata": {
    "collapsed": true
   },
   "outputs": [],
   "source": [
    "use.immune %>%\n",
    "filter(type == 'IgG' & antigen == 'gp41'& month == 0 & ct == 'T') -> test.immune1"
   ]
  },
  {
   "cell_type": "code",
   "execution_count": null,
   "metadata": {},
   "outputs": [],
   "source": [
    "# Just confirming that the function works before it goes in a giant loop. I'd delete this,\n",
    "# but i'll just end up needing it again if I do.\n",
    "ptm = proc.time()\n",
    "tps <- CapVar(test.immune1, nperm = 9999, transformation = medcode, family = 'binomial')\n",
    "proc.time() - ptm\n",
    "tps"
   ]
  },
  {
   "cell_type": "code",
   "execution_count": null,
   "metadata": {
    "collapsed": true
   },
   "outputs": [],
   "source": [
    "use.immune %>%\n",
    "filter(type == 'CD4+' & month == 6.5 & ct == 'T') -> test.immune.pteg"
   ]
  },
  {
   "cell_type": "code",
   "execution_count": null,
   "metadata": {},
   "outputs": [],
   "source": [
    "# Just confirming that the function works before it goes in a giant loop. I'd delete this,\n",
    "# but i'll just end up needing it again if I do.\n",
    "ptm = proc.time()\n",
    "tps <- CapVar(test.immune.pteg, nperm = jnperm, transformation = medcode, family = 'binomial')\n",
    "proc.time() - ptm\n",
    "tps"
   ]
  },
  {
   "cell_type": "code",
   "execution_count": null,
   "metadata": {},
   "outputs": [],
   "source": [
    "# Run above function against every relevant variable.\n",
    "ptm <- proc.time()\n",
    "\n",
    "use.immune %>% \n",
    "filter(ct == 'T') %>%\n",
    "group_by(type, antigen, month) %>%\n",
    "do(data.frame(CapVar(., nperm = jnperm))) -> permKernTable\n",
    "permKernTable\n",
    "\n",
    "proc.time() - ptm"
   ]
  },
  {
   "cell_type": "markdown",
   "metadata": {},
   "source": [
    "The above function runs several extra tests. Results as follows:\n",
    "\n",
    "type antigen visitno - things we run over\n",
    "\n",
    "caps.P - Capscale test asks whether if we rotate things a bit and then try to use the best axis to compare to the data. Its similar to the wuf1.P value, but with some rotation\n",
    "\n",
    "adonisP - p-value for a permanova test. Similar to mirkat p-value. One key exception is that igg_gp41_Month_0 falls on different sides of the 0.05 threshold.\n",
    "\n",
    "mir.P is the p value for the kernel regression test, as run in the MiRKAT package. \n",
    "(Zhao et al., 2015)\n",
    "\n",
    "caps.F and caps R2 are the f and r squared values for the capscale test.\n",
    "\n",
    "wuf.P - is the p value of a glm comparing weighted unifrac component one against variables of interest. This test appears to always be statistically significantly positive when the mirkat test is positve.\n",
    "\n",
    "wuf1.DR - one way of calculating an R2 value from a glm. We devide the deviance by the residual deviance\n",
    "\n",
    "wuf1.McFadden - is a McFadden's pseudo R^2. This turns out to be identical to the previous calculation.\n",
    "\n",
    "accuracy - the fraction of the time that the glm predicts something falls above or below the median correctly. This turns out to not be super informative. Everything has around a 60% accuracy.\n",
    "\n",
    "wuf1.coef - the coefficient of the glm model. The sign is relevant. Things with postive sign are associated with high values of weighted unifrac axis 1."
   ]
  },
  {
   "cell_type": "code",
   "execution_count": null,
   "metadata": {},
   "outputs": [],
   "source": [
    "# Clean up so we just see the results of the kernel regression \n",
    "concisePermKernTable <- permKernTable %>% ungroup %>%\n",
    "mutate(Kernel_Q = p2q(mir.P), MDS1_Q = p2q(wuf1.P)) %>%\n",
    "dplyr::select(Type = type, Antigen = antigen,Month = month, Kernel_P = mir.P, Kernel_Q,\n",
    "              MDS1_P = wuf1.P, MDS1_Q, GlmMDS1_R2 = wuf1.McFadden, MDS1_Coef = wuf1.coef) %>%\n",
    "as.data.frame %>% \n",
    "pass -> concisePermKernTable\n",
    "write.csv(format(concisePermKernTable, digits = 3), 'tables/concisePermkernTable.csv')"
   ]
  },
  {
   "cell_type": "markdown",
   "metadata": {},
   "source": [
    "### Table 1"
   ]
  },
  {
   "cell_type": "code",
   "execution_count": null,
   "metadata": {},
   "outputs": [],
   "source": [
    "?collapse_rows"
   ]
  },
  {
   "cell_type": "code",
   "execution_count": null,
   "metadata": {},
   "outputs": [],
   "source": [
    "# export conditionally formatted table as html\n",
    "\n",
    "colNames1 = c(' ' = 3, 'Kernel' = 2, 'MDS' = 4)\n",
    "colNames2 = c('Type', 'Antigen', 'Month', 'P', 'Q', 'P', 'Q', 'R2', 'Coef' )\n",
    "\n",
    "concisePermKernTable %>%\n",
    "mutate(\n",
    "    # this row needs to happen first, since the reformatting of the nother numbers makes them harder to call\n",
    "    MDS1_Coef = cell_spec(format(MDS1_Coef, digits = 3), \"html\",\n",
    "                           color = ifelse(MDS1_P < 0.05, \n",
    "                                         ifelse(MDS1_Coef < 0, 'red', 'blue'),\n",
    "                                         'black')),\n",
    "    Kernel_P = cell_spec(format_round(Kernel_P, 3), \"html\",\n",
    "                                  bold = ifelse(Kernel_P < 0.05, T, F),\n",
    "                                  background = ifelse(Kernel_P < 0.05, 'yellow', '')\n",
    "                                 ),\n",
    "    Kernel_Q = cell_spec(format_round(Kernel_Q, 3), \"html\",\n",
    "                                  bold = ifelse(Kernel_Q < 0.2, T, F),\n",
    "                                  background = ifelse(Kernel_Q < 0.2, 'lightyellow', '')\n",
    "                                 ),\n",
    "     MDS1_P  = cell_spec(format_round(MDS1_P, 3), \"html\",\n",
    "                                  bold = ifelse(MDS1_P < 0.05, T, F),\n",
    "                                  background = ifelse(MDS1_P < 0.05, 'yellow', '')\n",
    "                                 ),\n",
    "    MDS1_Q = cell_spec(format_round(MDS1_Q, 3), \"html\",\n",
    "                                  bold = ifelse(MDS1_Q < 0.2, T, F),\n",
    "                                  background = ifelse(MDS1_Q < 0.2, 'lightyellow', '')\n",
    "                                 ),\n",
    "    #Month = cell_spec(format_round(Month,0), \"html\")\n",
    "    Month = cell_spec(Month, \"html\")\n",
    "\n",
    "    \n",
    "      ) %>%\n",
    "mutate(Antigen = gsub('ANY.ENV.PTEG', 'Any ENV PTEG', Antigen)) %>%\n",
    "mutate(Antigen = gsub('gp70_B.CaseA_V1_V2', 'gp70 B.CaseA V1-V2', Antigen)) -> toTable\n",
    "\n",
    "toTable %>%\n",
    "\n",
    "kable(\"html\", escape = F, digits = 3, align = 'c', col.names = colNames2) %>%\n",
    "kable_styling(\"striped\", \"hover\", full_width = F) %>%\n",
    "add_header_above(colNames1) %>%\n",
    "collapse_rows(columns = 1:2, latex_hline = \"full\") -> concisePermKernTable.html\n",
    "\n",
    "concisePermKernTable.html %>% \n",
    "as.character() %>%\n",
    "display_html()\n",
    "\n",
    "concisePermKernTable.html %>% cat(file = 'tables/concisePermkernTable.html')"
   ]
  },
  {
   "cell_type": "markdown",
   "metadata": {},
   "source": [
    "Latex version of the same table"
   ]
  },
  {
   "cell_type": "code",
   "execution_count": null,
   "metadata": {},
   "outputs": [],
   "source": [
    "\n",
    "docHead <- \"\\\\documentclass[12pt]{article} % use larger type; default would be 10pt\n",
    "\n",
    "\\\\usepackage[utf8]{inputenc} % set input encoding (not needed with XeLaTeX)\n",
    "\\\\usepackage{booktabs}\n",
    "\\\\usepackage{longtable}\n",
    "\\\\usepackage{array}\n",
    "\\\\usepackage{multirow}\n",
    "\\\\usepackage[table]{xcolor}\n",
    "\\\\usepackage{wrapfig}\n",
    "\\\\usepackage{float}\n",
    "\\\\usepackage{colortbl}\n",
    "\\\\usepackage{pdflscape}\n",
    "\\\\usepackage{tabu}\n",
    "\\\\usepackage{threeparttable}\n",
    "\\\\usepackage{threeparttablex}\n",
    "\\\\usepackage[normalem]{ulem}\n",
    "\\\\usepackage{makecell}\n",
    "\n",
    "\\\\definecolor{green}{rgb}{1, 1, .9}\n",
    "\n",
    "\\\\begin{document}\n",
    "\"\n",
    "\n",
    "docTail <- \"\\\\end{document}\n",
    "\""
   ]
  },
  {
   "cell_type": "code",
   "execution_count": null,
   "metadata": {},
   "outputs": [],
   "source": [
    "# Make latex table\n",
    "\n",
    "concisePermKernTable %>%\n",
    "mutate(\n",
    "    # this row needs to happen first, since the reformatting of the nother numbers makes them harder to call\n",
    "    MDS1_Coef = cell_spec(format(MDS1_Coef, digits = 3), \"latex\",\n",
    "                           color = ifelse(MDS1_P < 0.05, \n",
    "                                         ifelse(MDS1_Coef < 0, 'red', 'blue'),\n",
    "                                         'black')),\n",
    "    Kernel_P = cell_spec(format_round(Kernel_P, 3), \"latex\",\n",
    "                                  bold = ifelse(Kernel_P < 0.05, T, F),\n",
    "                                  background = ifelse(Kernel_P < 0.05, 'yellow', 'white')\n",
    "                                 ),\n",
    "    Kernel_Q = cell_spec(format_round(Kernel_Q, 3), \"latex\",\n",
    "                                  bold = ifelse(Kernel_Q < 0.2, T, F),\n",
    "                                  background = ifelse(Kernel_Q < 0.2, 'green', 'white')\n",
    "                                 ),\n",
    "     MDS1_P  = cell_spec(format_round(MDS1_P, 3), \"latex\",\n",
    "                                  bold = ifelse(MDS1_P < 0.05, T, F),\n",
    "                                  background = ifelse(MDS1_P < 0.05, 'yellow', 'white')\n",
    "                                 ),\n",
    "    MDS1_Q = cell_spec(format_round(MDS1_Q, 3), \"latex\",\n",
    "                                  bold = ifelse(MDS1_Q < 0.2, T, F),\n",
    "                                  background = ifelse(MDS1_Q < 0.2, 'green', 'white')\n",
    "                                 ),\n",
    "    #Month = cell_spec(format_round(Month,0), \"html\")\n",
    "    Month = cell_spec(Month, \"latex\")\n",
    "\n",
    "    \n",
    "      ) %>%\n",
    "mutate(Antigen = gsub('ANY.ENV.PTEG', 'Any ENV PTEG', Antigen)) %>%\n",
    "mutate(Antigen = gsub('gp70_B.CaseA_V1_V2', 'gp70 B.CaseA V1-V2', Antigen)) -> toTable\n",
    "\n",
    "toTable %>% \n",
    "kable(\"latex\", escape = F, digits = 3, align = 'c', col.names = colNames2, booktabs = T) %>%\n",
    "kable_styling(position = \"left\") %>%\n",
    "\n",
    "add_header_above(colNames1) %>%\n",
    "collapse_rows(columns = 1:2, latex_hline = \"full\") %>%\n",
    "pass -> concisePermKernTable.tex"
   ]
  },
  {
   "cell_type": "code",
   "execution_count": null,
   "metadata": {},
   "outputs": [],
   "source": [
    "# Print latex table to tex file\n",
    "\n",
    "cat(docHead, concisePermKernTable.tex, docTail, file = 'tables/concisePermkernTable1.tex')"
   ]
  },
  {
   "cell_type": "code",
   "execution_count": null,
   "metadata": {},
   "outputs": [],
   "source": [
    "concisePermKernTable %>% filter(Kernel_P < 0.05) -> shortPermkernTable\n",
    "shortPermkernTable\n",
    "write.csv(format(shortPermkernTable, digits = 3), 'tables/shortPermkernTable.csv')"
   ]
  },
  {
   "cell_type": "markdown",
   "metadata": {},
   "source": [
    "## As above, but this time with gaussian - continuous dependent variables"
   ]
  },
  {
   "cell_type": "code",
   "execution_count": null,
   "metadata": {},
   "outputs": [],
   "source": [
    "ptm = proc.time()\n",
    "tps <- CapVar(test.immune1, nperm = 999, transformation = function(x){jac_box_cox(x)}, family = 'gaussian')\n",
    "proc.time() - ptm\n",
    "tps"
   ]
  },
  {
   "cell_type": "code",
   "execution_count": null,
   "metadata": {},
   "outputs": [],
   "source": [
    "# Run above function against every relevant variable.\n",
    "ptm <- proc.time()\n",
    "\n",
    "use.immune %>%\n",
    "filter(ct == 'T') %>%\n",
    "group_by(type, antigen, month) %>%\n",
    "do(data.frame(CapVar(., nperm = jnperm,\n",
    "                     transformation = function(x){jac_box_cox(x)},\n",
    "                     family = 'gaussian'))) -> permKernTableGaus\n",
    "permKernTableGaus\n",
    "\n",
    "proc.time() - ptm"
   ]
  },
  {
   "cell_type": "code",
   "execution_count": null,
   "metadata": {},
   "outputs": [],
   "source": [
    "# Clean up so we just see the results of the kernel regression \n",
    "concisePermKernTable <- permKernTableGaus %>% ungroup %>%\n",
    "mutate(Kernel_Q = p2q(mir.P), MDS1_Q = p2q(wuf1.P)) %>%\n",
    "dplyr::select(Type = type, Antigen = antigen, Month = month, Kernel_P = mir.P, Kernel_Q,\n",
    "              MDS1_P = wuf1.P, MDS1_Q, MDS1_R2 = wuf1.McFadden, MDS1_Coef = wuf1.coef) %>%\n",
    "as.data.frame %>% \n",
    "pass -> concisePermKernTableGaus\n",
    "\n",
    "concisePermKernTableGaus\n",
    "\n",
    "write.csv(format(concisePermKernTableGaus, digits = 3), 'tables/concisePermkernTableGaus.csv')"
   ]
  },
  {
   "cell_type": "markdown",
   "metadata": {},
   "source": [
    "### Table S1"
   ]
  },
  {
   "cell_type": "code",
   "execution_count": null,
   "metadata": {},
   "outputs": [],
   "source": [
    "# export conditionally formatted table as html\n",
    "concisePermKernTableGaus %>%\n",
    "mutate(\n",
    "    # this row needs to happen first, since the reformatting of the nother numbers makes them harder to call\n",
    "    MDS1_Coef = cell_spec(format(MDS1_Coef, digits = 3), \"html\",\n",
    "                           color = ifelse(MDS1_P < 0.05, \n",
    "                                         ifelse(MDS1_Coef < 0, 'red', 'blue'),\n",
    "                                         'black')),\n",
    "    Kernel_P = cell_spec(format_round(Kernel_P, 3), \"html\",\n",
    "                                  bold = ifelse(Kernel_P < 0.05, T, F),\n",
    "                                  background = ifelse(Kernel_P < 0.05, 'yellow', '')\n",
    "                                 ),\n",
    "    Kernel_Q = cell_spec(format_round(Kernel_Q, 3), \"html\",\n",
    "                                  bold = ifelse(Kernel_Q < 0.2, T, F),\n",
    "                                  background = ifelse(Kernel_Q < 0.2, 'lightyellow', '')\n",
    "                                 ),\n",
    "     MDS1_P  = cell_spec(format_round(MDS1_P, 3), \"html\",\n",
    "                                  bold = ifelse(MDS1_P < 0.05, T, F),\n",
    "                                  background = ifelse(MDS1_P < 0.05, 'yellow', '')\n",
    "                                 ),\n",
    "    MDS1_Q = cell_spec(format_round(MDS1_Q, 3), \"html\",\n",
    "                                  bold = ifelse(MDS1_Q < 0.2, T, F),\n",
    "                                  background = ifelse(MDS1_Q < 0.2, 'lightyellow', '')\n",
    "                                 ),\n",
    "    Month = cell_spec(Month, \"html\")\n",
    "\n",
    "    \n",
    "      ) %>%\n",
    "kable(\"html\", escape = F, digits = 3, align = 'c') %>%\n",
    "as.character() -> concisePermKernTableGaus.html\n",
    "\n",
    "concisePermKernTableGaus.html %>% \n",
    "display_html() %>%\n",
    "concisePermKernTableGaus.html %>% cat(file = 'tables/concisePermkernTableGaus.html')"
   ]
  },
  {
   "cell_type": "code",
   "execution_count": null,
   "metadata": {},
   "outputs": [],
   "source": [
    "concisePermKernTableGaus %>% filter(Kernel_P < 0.05) -> shortPermkernTableGaus\n",
    "shortPermkernTableGaus\n",
    "write.csv(format(shortPermkernTableGaus, digits = 3), 'tables/shortPermkernTable.csv')"
   ]
  },
  {
   "cell_type": "code",
   "execution_count": null,
   "metadata": {},
   "outputs": [],
   "source": [
    "# Make latex table\n",
    "\n",
    "concisePermKernTableGaus %>%\n",
    "mutate(\n",
    "    # this row needs to happen first, since the reformatting of the nother numbers makes them harder to call\n",
    "    MDS1_Coef = cell_spec(format(MDS1_Coef, digits = 3), \"latex\",\n",
    "                           color = ifelse(MDS1_P < 0.05, \n",
    "                                         ifelse(MDS1_Coef < 0, 'red', 'blue'),\n",
    "                                         'black')),\n",
    "    Kernel_P = cell_spec(format_round(Kernel_P, 3), \"latex\",\n",
    "                                  bold = ifelse(Kernel_P < 0.05, T, F),\n",
    "                                  background = ifelse(Kernel_P < 0.05, 'yellow', 'white')\n",
    "                                 ),\n",
    "    Kernel_Q = cell_spec(format_round(Kernel_Q, 3), \"latex\",\n",
    "                                  bold = ifelse(Kernel_Q < 0.2, T, F),\n",
    "                                  background = ifelse(Kernel_Q < 0.2, 'green', 'white')\n",
    "                                 ),\n",
    "     MDS1_P  = cell_spec(format_round(MDS1_P, 3), \"latex\",\n",
    "                                  bold = ifelse(MDS1_P < 0.05, T, F),\n",
    "                                  background = ifelse(MDS1_P < 0.05, 'yellow', 'white')\n",
    "                                 ),\n",
    "    MDS1_Q = cell_spec(format_round(MDS1_Q, 3), \"latex\",\n",
    "                                  bold = ifelse(MDS1_Q < 0.2, T, F),\n",
    "                                  background = ifelse(MDS1_Q < 0.2, 'green', 'white')\n",
    "                                 ),\n",
    "    #Month = cell_spec(format_round(Month,0), \"html\")\n",
    "    Month = cell_spec(Month, \"latex\")\n",
    "\n",
    "    \n",
    "      ) %>%\n",
    "mutate(Antigen = gsub('ANY.ENV.PTEG', 'Any ENV PTEG', Antigen)) %>%\n",
    "mutate(Antigen = gsub('gp70_B.CaseA_V1_V2', 'gp70 B.CaseA V1-V2', Antigen)) -> toTable\n",
    "\n",
    "toTable %>% \n",
    "kable(\"latex\", escape = F, digits = 3, align = 'c', col.names = colNames2, booktabs = T) %>%\n",
    "kable_styling(position = \"left\") %>%\n",
    "\n",
    "add_header_above(colNames1) %>%\n",
    "collapse_rows(columns = 1:2, latex_hline = \"full\") %>%\n",
    "pass -> concisePermKernTable.tex"
   ]
  },
  {
   "cell_type": "code",
   "execution_count": null,
   "metadata": {},
   "outputs": [],
   "source": [
    "# Print latex table to tex file\n",
    "\n",
    "cat(docHead, concisePermKernTable.tex, docTail, file = 'tables/concisePermkernTable1.tex')"
   ]
  },
  {
   "cell_type": "markdown",
   "metadata": {},
   "source": [
    "## Chi Squared test for statistical associations between each pair of immune variables"
   ]
  },
  {
   "cell_type": "code",
   "execution_count": null,
   "metadata": {
    "collapsed": true
   },
   "outputs": [],
   "source": [
    "use.immune %>% dplyr::select(pub_id, visitno, type, antigen, mag) -> tmp\n",
    "full_join(tmp, tmp, by = 'pub_id') %>% \n",
    "group_by(visitno.x, type.x, antigen.x, visitno.y, type.y, antigen.y) %>%\n",
    "nest %>%\n",
    "mutate(x2 = map(data, function(df){unwarn(chisq.test(df$mag.x, df$mag.y))})) %>%\n",
    "mutate(glance = map(x2, glance)) %>%\n",
    "dplyr::select(-data, -x2) %>%\n",
    "unnest(glance) %>%\n",
    "#mutate(q.value = p2q(p.value)) %>% # reurns NaNs\n",
    "pass -> compareImmuneX2"
   ]
  },
  {
   "cell_type": "code",
   "execution_count": null,
   "metadata": {},
   "outputs": [],
   "source": [
    "compareImmuneX2 %>% filter(\n",
    "    type.x == 'IgG' &\n",
    "    antigen.x == 'gp41' &\n",
    "    type.y == 'IgG' &\n",
    "    antigen.y == 'gp41'\n",
    ")"
   ]
  },
  {
   "cell_type": "code",
   "execution_count": null,
   "metadata": {
    "collapsed": true
   },
   "outputs": [],
   "source": [
    "compareImmuneX2 %>%\n",
    "filter(type.x == 'IgG' & type.y == 'IgG' & antigen.x != antigen.y) %>%\n",
    "write_csv('tables/chisq_IgG_comparasons.csv')"
   ]
  },
  {
   "cell_type": "markdown",
   "metadata": {},
   "source": [
    "# MDS GLM for each other MDS Axis"
   ]
  },
  {
   "cell_type": "code",
   "execution_count": null,
   "metadata": {
    "collapsed": true
   },
   "outputs": [],
   "source": [
    "psN2 %>% phylo_join(scores(psN2.pcoa, display = \"sites\", choices = 1:10) %>%\n",
    "                    as.data.frame %>% rownames_to_column, by = 'rowname') %>%\n",
    "sample_data %>% as('data.frame') %>% rownames_to_column -> hereSam\n"
   ]
  },
  {
   "cell_type": "code",
   "execution_count": null,
   "metadata": {},
   "outputs": [],
   "source": [
    "data_frame(formula = paste(\"transformation(ydata) ~ MDS\", 1:10, sep = \"\"))"
   ]
  },
  {
   "cell_type": "code",
   "execution_count": null,
   "metadata": {
    "collapsed": true
   },
   "outputs": [],
   "source": [
    "EachMDS <- function(x, nperm = 9999, transformation = medcode2, family = 'binomial'){\n",
    "    ## Pull out the needed data\n",
    "    \n",
    "    psN2.wMDS <- psN2 %>% phylo_join(scores(psN2.pcoa, display = \"sites\", choices = 1:10) %>%\n",
    "                    as.data.frame %>% rownames_to_column, by = 'rowname')\n",
    "    \n",
    "#     medWuf <- NA\n",
    "#     rankWuf <- NA\n",
    "    locPS <- phylo_join(psN2.wMDS, x, by = 'pub_id') \n",
    "    ydata0 <- sample_data(locPS)$mag\n",
    "    yna <- is.na(ydata0)\n",
    "    #loc.wuf <- wufKN2\n",
    "    #loc.jsd <- jsdKN2\n",
    "    ydata <- ydata0\n",
    "    \n",
    "    ydata <- ydata0[!yna]\n",
    "    loc.wuf2 <- psN2.wuf %>% as.matrix %>% .[!yna, !yna]\n",
    "    \n",
    "     samDf <- locPS %>% sample_data %>% as('data.frame') %>% rownames_to_column %>%\n",
    "    .[!yna,]\n",
    "\n",
    "#     # Is giving only positive results with CAP1, not sure why\n",
    "    loc_glm <- glm(as.formula(\"transformation(ydata) ~  MDS1\"), data = samDf, family = family)\n",
    "    glmAnova <- loc_glm %>% anova(test = \"Chisq\")\n",
    "    \n",
    "    # data_frame, rather than data.frame\n",
    "    # https://stackoverflow.com/questions/48450308/iterating-over-formulas-in-purrr#48450308\n",
    "    data_frame(formulaString = paste(\"transformation(ydata) ~ MDS\", 1:10, sep = \"\")) %>%\n",
    "     mutate(model = map(formulaString, function(fs){\n",
    "         glm(as.formula(fs), data = samDf, family = family)})) %>%\n",
    "    mutate(anova = map(model, anova)) %>%\n",
    "    mutate(glance = map(model, glance)) %>%\n",
    "    mutate(tidy = map(model, tidy)) %>%\n",
    "    mutate(coef = map(model, ~ coef(summary(.))[2,])) %>%\n",
    "    pass -> allmodels\n",
    "\n",
    "    allmodels %>% dplyr::select(\"tidy\") %>% unnest %>% filter(term != '(Intercept)')\n",
    "    \n",
    " \n",
    "    }\n",
    "    "
   ]
  },
  {
   "cell_type": "code",
   "execution_count": null,
   "metadata": {},
   "outputs": [],
   "source": [
    "# Just confirming that the function works before it goes in a giant loop. I'd delete this,\n",
    "# but i'll just end up needing it again if I do.\n",
    "ptm = proc.time()\n",
    "tps <- EachMDS(test.immune.pteg, nperm = 9999, transformation = medcode, family = 'binomial')\n",
    "proc.time() - ptm"
   ]
  },
  {
   "cell_type": "code",
   "execution_count": null,
   "metadata": {},
   "outputs": [],
   "source": [
    "tps"
   ]
  },
  {
   "cell_type": "code",
   "execution_count": null,
   "metadata": {
    "collapsed": true,
    "scrolled": true
   },
   "outputs": [],
   "source": [
    "use.immune %>%\n",
    "group_by(type, antigen, month) %>%\n",
    "nest %>%\n",
    "mutate(coefs = map(data, ~ EachMDS(.))) %>%\n",
    "dplyr::select(-data) %>% unnest(coefs) -> glmMDScoefs"
   ]
  },
  {
   "cell_type": "code",
   "execution_count": null,
   "metadata": {},
   "outputs": [],
   "source": [
    "glmMDScoefs %>%\n",
    "gather(key = \"key\", value = \"value\", estimate:p.value) %>%\n",
    "filter(key == \"p.value\") %>%\n",
    "spread(key = term, value = value) %>%\n",
    "dplyr::select(-key, -MDS10, MDS10) %>%\n",
    "mutate(type = factor(type, levels = c( \"IgA\", \"IgG\",  \"CD4+\"))) %>%\n",
    "mutate(antigen = factor(antigen, levels = c(ants1, ants2, \"ANY.ENV.PTEG\"))) %>%\n",
    "arrange(type) -> allMDS\n",
    "allMDS"
   ]
  },
  {
   "cell_type": "code",
   "execution_count": null,
   "metadata": {},
   "outputs": [],
   "source": [
    "allMDS %>%\n",
    "kable(\"html\", escape = F, digits = 3, align = 'c') %>%\n",
    "as.character() -> allMDS.html\n",
    "\n",
    "allMDS.html %>% \n",
    "display_html()\n",
    "\n",
    "allMDS.html %>% cat(file = 'tables/allMDS.html')"
   ]
  },
  {
   "cell_type": "code",
   "execution_count": null,
   "metadata": {
    "collapsed": true
   },
   "outputs": [],
   "source": [
    "write_csv(allMDS, 'tables/allMDSGlmPValues.csv')"
   ]
  },
  {
   "cell_type": "markdown",
   "metadata": {},
   "source": [
    "# Jensen Shannon Kernel Regression\n",
    "at each taxonomic level"
   ]
  },
  {
   "cell_type": "markdown",
   "metadata": {},
   "source": [
    "## Agglomeration"
   ]
  },
  {
   "cell_type": "code",
   "execution_count": null,
   "metadata": {},
   "outputs": [],
   "source": [
    "# How many taxa do we see if we agglomerate at different levels\n",
    "psN2 %>% tax_table %>% as.data.frame %>% dplyr::select(Phylum:Genus) %>% colnames -> taxLevels\n",
    "\n",
    "data_frame(taxLevels) %>%\n",
    "mutate(ntaxa = map(taxLevels,\n",
    "    function(lev){\n",
    "        psN2 %>% tax_glom(lev) %>% ntaxa\n",
    "    }\n",
    "                                             )) %>%\n",
    "mutate(ntaxa = unlist(ntaxa)) %>%\n",
    "pass -> NTaxaAtLevel\n",
    "NTaxaAtLevel"
   ]
  },
  {
   "cell_type": "code",
   "execution_count": null,
   "metadata": {
    "collapsed": true
   },
   "outputs": [],
   "source": [
    "data_frame(taxLevels = \"Species\", ntaxa = ntaxa(psN2), ps = list((psN2))) -> specRow\n",
    "data_frame(taxLevels = \"Species\", ntaxa = ntaxa(psN1), psCount = list((psN1))) -> specRowC"
   ]
  },
  {
   "cell_type": "code",
   "execution_count": null,
   "metadata": {
    "collapsed": true
   },
   "outputs": [],
   "source": [
    "D2K_savename <- function(distmat){\n",
    "    # cascade names forward with the D2K operation\n",
    "    require(MiRKAT)\n",
    "    out <- MiRKAT::D2K(distmat)\n",
    "    colnames(out) <- colnames(distmat)\n",
    "    rownames(out) <- rownames(distmat)\n",
    "    out\n",
    "}"
   ]
  },
  {
   "cell_type": "code",
   "execution_count": null,
   "metadata": {},
   "outputs": [],
   "source": [
    "# Data frame of phyloseq objects distances and kernels at a bunch of taxonomic levels\n",
    "NTaxaAtLevel %>%\n",
    "mutate(ps = map(ntaxa, ~tip_glom_saveid(psN2, k = .))) %>%\n",
    "# process the phyloseq objects so they have better names\n",
    "mutate(ps = map(ps, ~swap.phyloseq.taxnames(tag_phyloseq(remove_tag_phyloseq(.)), oldname = 'oldname2'))) %>%\n",
    "# add in the species data row (which should already have correct names)\n",
    "bind_rows(specRow) %>%\n",
    "# calculate jensen-shannon distance matrix\n",
    "mutate(jsd = map(ps, ~phyloseq::distance(., method = \"jsd\") )) %>%\n",
    "# convert to 2d matrix\n",
    "mutate(jsdMat = map(jsd, ~as.matrix(.))) %>%\n",
    "# calculate kernel\n",
    "mutate(kjsd = map(jsdMat, ~D2K_savename(.))) -> tmp\n",
    "\n",
    "tmp %>%\n",
    "mutate(psNoZero = map(ps, ~transform_sample_counts(., function(x) x+(1/1000)))) -> tmp\n",
    "\n",
    "tmp %>%\n",
    "## chemometrics::clr just works, while compositions::clr throws a criptic error message here\n",
    "mutate(clr = map(psNoZero, ~ transform_otu_table(., chemometrics::clr))) %>%\n",
    "#mutate(clr = map(psNoZero, ~ transform_otu_table(., function(x) as.matrix(compositions::clr(x))))) %>%\n",
    "pass -> psDf0 # Original way"
   ]
  },
  {
   "cell_type": "code",
   "execution_count": null,
   "metadata": {},
   "outputs": [],
   "source": [
    "# Data frame of phyloseq objects distances and kernels at a bunch of taxonomic levels\n",
    "# I use psN1 because I need count data for some downstream steps.\n",
    "NTaxaAtLevel %>%\n",
    "mutate(psCount = map(ntaxa, ~tip_glom_saveid(psN1, k = .))) %>%\n",
    "# process the phyloseq objects so they have better names\n",
    "mutate(psCount = map(psCount, ~swap.phyloseq.taxnames(tag_phyloseq(remove_tag_phyloseq(.)), oldname = 'oldname2'))) %>%\n",
    "# add in the species data row (which should already have correct names)\n",
    "bind_rows(specRowC) %>%\n",
    "pass -> tmp"
   ]
  },
  {
   "cell_type": "code",
   "execution_count": null,
   "metadata": {
    "collapsed": true
   },
   "outputs": [],
   "source": [
    "tmp %>%\n",
    "# calculate jensen-shannon distance matrix\n",
    "mutate(ps = map(psCount, ~transform_sample_counts(., function(x) {x/sum(x)}))) %>%\n",
    "mutate(jsd = map(ps, ~phyloseq::distance(., method = \"jsd\") )) %>%\n",
    "# convert to 2d matrix\n",
    "mutate(jsdMat = map(jsd, ~as.matrix(.))) %>%\n",
    "# calculate kernel\n",
    "mutate(kjsd = map(jsdMat, ~D2K_savename(.))) -> tmp\n",
    "\n",
    "tmp %>%\n",
    "mutate(psNoZero = map(ps, ~transform_sample_counts(., function(x) x+(1/1000)))) %>%\n",
    "## chemometrics::clr just works, while compositions::clr throws a criptic error message here\n",
    "mutate(clr = map(psNoZero, ~ transform_otu_table(., chemometrics::clr))) %>%\n",
    "#mutate(clr = map(psNoZero, ~ transform_otu_table(., function(x) as.matrix(compositions::clr(x))))) %>%\n",
    "pass -> psDf"
   ]
  },
  {
   "cell_type": "code",
   "execution_count": null,
   "metadata": {},
   "outputs": [],
   "source": [
    "print(psDf)"
   ]
  },
  {
   "cell_type": "code",
   "execution_count": null,
   "metadata": {
    "collapsed": true
   },
   "outputs": [],
   "source": [
    "MirMulti <- function(x, KsDf = psDf, ps = psN2, nperm = 9999){\n",
    "    \n",
    "    Ks = KsDf$kjsd\n",
    "    \n",
    "    # I  bind to the phyloseq object and then peel off again later to guerentee\n",
    "    # that the y-data is in the same order as the Ks\n",
    "    locPS <- phylo_join(ps, x, by = 'pub_id')\n",
    "    \n",
    "    ydata0 <- sample_data(locPS)$mag\n",
    "    yna <- is.na(ydata0)\n",
    "\n",
    "    ydata <- ydata0[!yna]\n",
    "    loc.Ks <- lapply(Ks, function(K){K[!yna, !yna]})  \n",
    "  \n",
    "    bcxJSD <- MiRKAT(y = jac_box_cox(ydata), Ks = loc.Ks, out_type = \"C\", method = 'permutation', nperm = nperm)\n",
    "    medJSD <- MiRKAT(y = medcode(ydata), Ks = loc.Ks, out_type = \"D\", method = 'permutation', nperm = nperm)\n",
    "    mmDf = data.frame(\n",
    "        taxLevels = KsDf$taxLevels,\n",
    "        ntaxa = KsDf$ntaxa,\n",
    "        bcxJSD = bcxJSD$indivP, medJSD = medJSD$indivP,\n",
    "        bcxJSDOmni = bcxJSD$omnibus_p, medJSDOmni = medJSD$omnibus_p)\n",
    "    mmDf\n",
    "    \n",
    "    }"
   ]
  },
  {
   "cell_type": "code",
   "execution_count": null,
   "metadata": {},
   "outputs": [],
   "source": [
    "# Test case\n",
    "\n",
    "use.immune %>%\n",
    "filter(type == 'IgG' & antigen == 'gp41'& visitno == 2 & ct == 'T') -> test.immune1\n",
    "\n",
    "test.mm <- MirMulti(test.immune1, Ks = psDf, nperm = 999)\n",
    "\n",
    "test.mm"
   ]
  },
  {
   "cell_type": "code",
   "execution_count": null,
   "metadata": {},
   "outputs": [],
   "source": [
    "ptm = proc.time()\n",
    "\n",
    "use.immune %>%\n",
    "group_by(type, antigen, month) %>%\n",
    "nest %>%\n",
    "mutate(mir = map(data,\n",
    "    ~MirMulti(., Ks = psDf, ps = psN2, nperm = 999)\n",
    ")) %>%\n",
    "dplyr::select(-data) %>% unnest(mir) %>%\n",
    "pass -> mirLevels\n",
    "\n",
    "proc.time() - ptm"
   ]
  },
  {
   "cell_type": "code",
   "execution_count": null,
   "metadata": {},
   "outputs": [],
   "source": [
    "mirLevels %>% dplyr::select(-ntaxa, -medJSD) %>% spread(key = taxLevels, value = bcxJSD)"
   ]
  },
  {
   "cell_type": "code",
   "execution_count": null,
   "metadata": {},
   "outputs": [],
   "source": [
    "mirLevels %>% dplyr::select(-ntaxa, -bcxJSD) %>% spread(key = taxLevels, value = medJSD)"
   ]
  },
  {
   "cell_type": "markdown",
   "metadata": {},
   "source": [
    "I'd like to combine the above into one table, when it isn't 7:45.\n",
    "Probably has soemething to do with merging columns or something.\n",
    "Or maybe I just want to plot it as a figure."
   ]
  },
  {
   "cell_type": "code",
   "execution_count": null,
   "metadata": {
    "collapsed": true
   },
   "outputs": [],
   "source": [
    "mirLevels %>%\n",
    "gather(metric, P, bcxJSD:medJSD) -> mirDat"
   ]
  },
  {
   "cell_type": "code",
   "execution_count": null,
   "metadata": {
    "collapsed": true
   },
   "outputs": [],
   "source": [
    "mirDat %>% dplyr::select(type:month, bcxJSD = bcxJSDOmni, medJSD = medJSDOmni) %>%\n",
    "group_by(type, antigen, month) %>%\n",
    "summarize(bcxJSD = mean(bcxJSD), medJSD = mean(medJSD)) %>%\n",
    "gather(metric, P, bcxJSD, medJSD) -> mirOmni"
   ]
  },
  {
   "cell_type": "code",
   "execution_count": null,
   "metadata": {
    "scrolled": true
   },
   "outputs": [],
   "source": [
    "mirOmni"
   ]
  },
  {
   "cell_type": "code",
   "execution_count": null,
   "metadata": {},
   "outputs": [],
   "source": [
    "NTaxaAtLevel %>% bind_rows(specRow[,1:2]) %>% unite(nLev, taxLevels, ntaxa, remove = FALSE) -> NTaxaAtLevel2\n",
    "NTaxaAtLevel2"
   ]
  },
  {
   "cell_type": "code",
   "execution_count": null,
   "metadata": {
    "collapsed": true
   },
   "outputs": [],
   "source": [
    "bind_rows(\n",
    "    permKernTable %>% mutate(metric = 'med'),\n",
    "    permKernTableGaus %>% mutate(metric = 'bcx')\n",
    "    ) %>%\n",
    "dplyr::select(type, antigen, month, metric, mir.P) %>%\n",
    "pass -> WufPData"
   ]
  },
  {
   "cell_type": "code",
   "execution_count": null,
   "metadata": {
    "collapsed": true
   },
   "outputs": [],
   "source": [
    "fixant <- function(df){\n",
    "    df %>%\n",
    "    mutate(antigen = stringr::str_replace_all(antigen, \"\\\\.\", \" \")) %>%\n",
    "    mutate(antigen = stringr::str_replace_all(antigen, \"_\", \" \")) %>%\n",
    "    #mutate(metric =  stringr::str_replace_all(metric, \"bcx\", \"\")) %>%\n",
    "    pass\n",
    "}\n",
    "\n",
    "fixstuff <- function(df){\n",
    "    df %>%\n",
    "    fixant %>%\n",
    "    mutate(metric =  stringr::str_replace_all(metric, \"JSD\", \"\")) %>%\n",
    "    pass\n",
    "}"
   ]
  },
  {
   "cell_type": "code",
   "execution_count": null,
   "metadata": {},
   "outputs": [],
   "source": [
    "mirDat %>% fixant %>% head"
   ]
  },
  {
   "cell_type": "code",
   "execution_count": null,
   "metadata": {},
   "outputs": [],
   "source": [
    "mirDat %>% \n",
    "#mutate(antigen = stringr::str_replace_all(antigen, \"\\\\.\", \" \")) %>% \n",
    "fixstuff %>%\n",
    "ggplot(aes(x = ntaxa, y = P, col = factor(month), fill = factor(month))) +\n",
    "geom_point(pch = 21) +\n",
    "facet_grid(type + antigen ~ metric, labeller = labeller(antigen = label_wrap_gen(width = 10))) + \n",
    "scale_x_log10(breaks = c(3, NTaxaAtLevel2$ntaxa, 1000), labels = c(\"omni\", NTaxaAtLevel2$nLev, \"wunifrac\")) +\n",
    "scale_y_log10(breaks = c(0.002, 0.01, 0.05, 0.2, 1)) + \n",
    "geom_hline(yintercept=0.05, col = 'blue', alpha = 0.5) + geom_hline(yintercept=0.01, col = 'red', alpha = 0.5) +\n",
    "#geom_hline(data = mirOmni, aes(yintercept = P, col = factor(month))) +\n",
    "#annotation_logticks(sides = 'bl') +\n",
    "#geom_rug(data = mirOmni, aes(y = P, col = factor(month)), inherit.aes = F) +\n",
    "geom_point(data = mirOmni %>% ungroup %>% fixstuff,\n",
    "           aes(x = 3, y = P, col = factor(month), fill = factor(month)), inherit.aes = F, pch = 22, size = 2) +\n",
    "geom_point(data = WufPData %>% ungroup %>% fixant,\n",
    "           aes(x = 1000, y = mir.P, col = factor(month), fill = factor(month)), inherit.aes = F, pch = 24, size = 2) +\n",
    "\n",
    "scale_colour_manual(values=cbPalette) + \n",
    "scale_fill_manual(values=alpha(cbPalette, 0.5)) + \n",
    "theme_bw() +\n",
    "theme(axis.text.x = element_text(angle = 90, hjust = 1,, vjust = 0.5, size = 10),\n",
    "     strip.text.y = (element_text(angle = 90))) -> pjsd0\n",
    "\n",
    "options(repr.plot.width=8, repr.plot.height= 6)\n",
    "pjsd0\n",
    "options(par0)\n",
    "# I'd like to add weighted unifrac as a tick mark on the right."
   ]
  },
  {
   "cell_type": "code",
   "execution_count": null,
   "metadata": {},
   "outputs": [],
   "source": [
    "NTaxaAtLevel2"
   ]
  },
  {
   "cell_type": "code",
   "execution_count": null,
   "metadata": {},
   "outputs": [],
   "source": [
    "# New combined data frame that has omnibus, regular, and wunifrac all in one\n",
    "bind_rows(\n",
    "     mirDat %>% mutate(metric =  stringr::str_replace_all(metric, \"JSD\", \"\")) %>%\n",
    "    mutate(test = \"JSD\"),\n",
    "     mirOmni %>% ungroup %>% mutate(metric =  stringr::str_replace_all(metric, \"JSD\", \"\")) %>%\n",
    "    mutate(taxLevels = \"Omnibus\") %>% mutate(test = \"Omnibus\"),\n",
    "     WufPData %>% ungroup %>% dplyr::rename(P = mir.P) %>%\n",
    "    mutate(taxLevels = \"WUnifrac\") %>% mutate(test = \"WUnifrac\")\n",
    ") %>% \n",
    "mutate(antigen = factor(antigen, levels = c(ants2, ants1, \"ANY.ENV.PTEG\"))) %>%\n",
    "mutate(type = factor(type, levels = c(\"IgA\", \"IgG\", \"CD4+\"))) %>%\n",
    "mutate(taxLevels = factor(taxLevels, levels = c(\"Omnibus\", NTaxaAtLevel2$taxLevels, \"WUnifrac\"))) %>%\n",
    "dplyr::select(-c(bcxJSDOmni:medJSDOmni))%>%\n",
    "unite(nLev, taxLevels, ntaxa, remove = FALSE) %>%\n",
    "mutate(nLev = stringr::str_replace(nLev, \"_NA\", \"\")) %>%\n",
    "#mutate(antigen = stringr::str_replace_all(antigen, \"\\\\.\", \" \")) %>%\n",
    "#mutate(antigen = stringr::str_replace_all(antigen, \"_\", \" \")) %>%\n",
    " mutate(antigen = factor(antigen, labels = stringr::str_replace_all(levels(antigen), \"\\\\.\", \" \"))) %>%\n",
    " mutate(antigen = factor(antigen, labels = stringr::str_replace_all(levels(antigen), \"_\", \" \"))) %>%\n",
    "\n",
    "\n",
    "# mutate(antigen = factor(antigen, labels = (levels(antigen)))) %>%\n",
    "# mutate(antigen = factor(antigen, labels = (levels(antigen)))) %>%\n",
    "\n",
    "mutate(test = factor(test, levels = c('Omnibus', 'JSD', 'WUnifrac'))) %>%\n",
    "pass -> mirDat2\n",
    "mirDat2 %>% filter(type == 'CD4+')"
   ]
  },
  {
   "cell_type": "code",
   "execution_count": null,
   "metadata": {},
   "outputs": [],
   "source": [
    "mirDat2 %>% head"
   ]
  },
  {
   "cell_type": "code",
   "execution_count": null,
   "metadata": {},
   "outputs": [],
   "source": [
    "mirDat2 %>%\n",
    "filter(type == \"IgG\") %>%\n",
    "ggplot(aes(x = taxLevels, y = P, col = factor(month), fill = factor(month), shape = test)) +\n",
    "geom_point(size = 2) +\n",
    "facet_grid(type + antigen ~ metric, labeller = labeller(antigen = label_wrap_gen(width = 10))) + \n",
    "#scale_x_log10(breaks = c(3, NTaxaAtLevel2$ntaxa, 1000), labels = c(\"omni\", NTaxaAtLevel2$nLev, \"wunifrac\")) +\n",
    "scale_y_log10(breaks = c(0.002, 0.01, 0.05, 0.2, 1)) + \n",
    "geom_hline(yintercept=0.05, col = 'blue', alpha = 0.5) + geom_hline(yintercept=0.01, col = 'red', alpha = 0.5) +\n",
    "\n",
    "scale_shape_manual(values = c(22, 21, 24)) +\n",
    "scale_colour_manual(values=cbPalette) + \n",
    "scale_fill_manual(values=alpha(cbPalette, 0.5)) + \n",
    "theme_bw() +\n",
    "theme(axis.text.x = element_text(angle = 90, hjust = 1,, vjust = 0.5, size = 10),\n",
    "     strip.text.y = (element_text(angle = 90))) -> pjsd\n",
    "\n",
    "\n",
    "options(repr.plot.width=6, repr.plot.height= 8)\n",
    "pjsd\n",
    "\n",
    "ggsave('figures/KernelPVsLevel.png', width = 6, height = 8)\n",
    "options(par0)"
   ]
  },
  {
   "cell_type": "markdown",
   "metadata": {},
   "source": [
    "X-axis is now spaced evenly"
   ]
  },
  {
   "cell_type": "markdown",
   "metadata": {},
   "source": [
    "Table SX. P values of kernel regression tests. Circles indicate jensen shannon values at different taxonomic resolutions. Squares are the omnibus p-value for that cohort of tests. Triangles indicate kernel regression p-values for the corresponding weighted unifrac test.\n",
    "\n",
    "The blue and red lines indicate p values of 5% and 1% respectively.\n",
    "\n",
    "Observations: The weighted unifrac test is sensitive. In cases where only one taxonic level hits, weighted unifrac often also falls at some statistically significant value. The omnibus p value is often higher than the weighted unifrac one.\n",
    "Weighted unifrac seems like a good test for identifying patterns at any level that relate to an outcome. The jensen shannon informs us about which level the pattern is observed."
   ]
  },
  {
   "cell_type": "markdown",
   "metadata": {},
   "source": [
    "# Local Tests"
   ]
  },
  {
   "cell_type": "markdown",
   "metadata": {},
   "source": [
    "## Family, genera and species vs wuf1\n",
    "I might even be able to drill down to every level."
   ]
  },
  {
   "cell_type": "code",
   "execution_count": null,
   "metadata": {
    "collapsed": true
   },
   "outputs": [],
   "source": [
    "model_each_species <- function(ps, f, pthresh = 1, q = FALSE){\n",
    "    # Start with the otu table\n",
    "ps %>%\n",
    "# reshape it so we have clr values for every taxon-sample pair\n",
    "otu_table %>% as.data.frame %>% rownames_to_column(\"Sample\") %>% gather(Taxon, clr, -Sample) %>%\n",
    "    # bind that to the sample data\n",
    "    # doing this here seems remarkably inefficient, but its not creating a bottleneck so I'll leave it.\n",
    "left_join(\n",
    "    ps %>%\n",
    "    # the sample data need to have MDS1 and MDS2 appended to them\n",
    "    phylo_join(\n",
    "    psN2.pcoa %>% scores(display = \"sites\") %>% # hardcoded psN2.pcoa\n",
    "        as.data.frame %>% \n",
    "        rownames_to_column %>% \n",
    "        dplyr::select('rowname', 'MDS1', 'MDS2'),\n",
    "    by = 'rowname'\n",
    ") %>%\n",
    "    # back to binding to sample data\n",
    "    sample_data %>% as('data.frame') %>% rownames_to_column(\"Sample\"),\n",
    "     by = 'Sample') %>%\n",
    "\n",
    "group_by(Taxon) %>%  # group and nest for model run\n",
    "nest %>%\n",
    "mutate(Mod = map(data, f)) %>% # apply model over each species\n",
    "mutate(Glance = map(Mod, glance), Tidy = map(Mod, tidy)) %>% # extract relevant data from model\n",
    "# view model\n",
    "dplyr::select(Taxon, Tidy) %>% unnest %>%\n",
    "mutate(term = gsub('[\\\\( \\\\)]','', term)) %>% # remove parentheses from \"(Intercept)\"\n",
    "gather(meas, val, estimate:p.value) %>% \n",
    "unite(meas, term, meas) %>% spread(meas, val) %>% arrange(clr_estimate) %>% \n",
    "dplyr::select(Taxon, Intercept_estimate, clr_estimate, clr_std.error, clr_p.value) %>%\n",
    "    # add q value\n",
    "    {if(q) mutate(., clr_q.value = p2q(clr_p.value)) else .} %>%\n",
    "    \n",
    " filter(clr_p.value < pthresh) %>%\n",
    "\n",
    "     #Join taxonomy information\n",
    "     left_join(\n",
    "     ps %>% tax_table %>% as.data.frame %>% as.tibble %>% dplyr::select(Kingdom:Genus, Species, tag) %>%\n",
    "         mutate(tag = as.character(tag)), # mutate so tag is and taxon are both character class\n",
    "     by = c(\"Taxon\" = \"tag\")) %>%\n",
    "pass\n",
    " }"
   ]
  },
  {
   "cell_type": "code",
   "execution_count": null,
   "metadata": {
    "collapsed": true
   },
   "outputs": [],
   "source": [
    "model_each_species_for_antigen <- function(antigen, ps = psN2){\n",
    "    ps %>%\n",
    "    model_each_species(function(df){glm(medcode2(get(antigen)) ~ clr, data = df, family = 'binomial')}, q = TRUE, pthresh = 1)\n",
    "}"
   ]
  },
  {
   "cell_type": "code",
   "execution_count": null,
   "metadata": {
    "collapsed": true
   },
   "outputs": [],
   "source": [
    "ColsToRun <- c('IgG_Con.6.gp120.B_Month_6.5', 'IgG_Con.6.gp120.B_Month_12', 'IgG_gp41_Month_0', 'IgG_gp41_Month_6.5', 'IgG_gp70_B.CaseA_V1_V2_Month_12', 'IgG_ZM96.gp140_Month_6.5', 'MDS1', 'isMale' ) \n",
    "\n"
   ]
  },
  {
   "cell_type": "code",
   "execution_count": null,
   "metadata": {
    "collapsed": true
   },
   "outputs": [],
   "source": [
    "model_each_species_case <- function(ps){\n",
    "    \n",
    "    ps %>% model_each_species(function(df){glm(MDS1 ~ clr, data = df, family = 'gaussian')}, q = TRUE, pthresh = 1) %>%\n",
    "arrange(clr_estimate) %>%\n",
    "mutate(Taxon = factor(Taxon, levels = Taxon[order(clr_estimate)])) %>%\n",
    "    mutate(test = 'gaussian', antigen = 'MDS1') %>%\n",
    "pass -> loc_mds1Glms\n",
    "    \n",
    "        ps %>% model_each_species(function(df){glm(log10(IgG_Con.6.gp120.B_Month_12 + 100) ~ clr, data = df, family = 'gaussian')}, q = TRUE, pthresh = 1) %>%\n",
    "arrange(clr_estimate) %>%\n",
    " mutate(Taxon = factor(Taxon, levels = levels(loc_mds1Glms$Taxon))) %>%\n",
    "    mutate(test = 'gaussian', antigen = 'Con.6.gp120.B_Month_12') %>%\n",
    " pass -> loc_gp120Glms\n",
    "    \n",
    "      tibble(antigen = ColsToRun) %>% mutate(model = map(antigen, ~model_each_species_for_antigen(., ps = ps))) %>%\n",
    "  unnest %>% mutate(Taxon = factor(Taxon, levels = levels(loc_mds1Glms$Taxon))) %>%\n",
    "        mutate(test = 'binomial') %>%\n",
    "    pass-> loc_logitCoefs\n",
    "    \n",
    "\n",
    "    #list(loc_mds1Glms, loc_gp120Glms, loc_logitCoefs)\n",
    "     bind_rows(loc_mds1Glms, loc_gp120Glms, loc_logitCoefs) %>% dplyr::select(test, antigen, everything())\n",
    "    \n",
    "}"
   ]
  },
  {
   "cell_type": "code",
   "execution_count": null,
   "metadata": {
    "collapsed": true
   },
   "outputs": [],
   "source": [
    "#psDf %>% mutate(ps2 = map(ps, ~swap.phyloseq.taxnames(tag_phyloseq(remove_tag_phyloseq(.))))) -> test"
   ]
  },
  {
   "cell_type": "code",
   "execution_count": null,
   "metadata": {
    "collapsed": true
   },
   "outputs": [],
   "source": [
    "#psDf[[1,\"clr\"]] %>% tax_table"
   ]
  },
  {
   "cell_type": "code",
   "execution_count": null,
   "metadata": {},
   "outputs": [],
   "source": [
    "psDf[[1]]"
   ]
  },
  {
   "cell_type": "code",
   "execution_count": null,
   "metadata": {},
   "outputs": [],
   "source": [
    "psDf %>% print"
   ]
  },
  {
   "cell_type": "code",
   "execution_count": null,
   "metadata": {},
   "outputs": [],
   "source": [
    "ptm = proc.time()\n",
    "psDf %>% dplyr::select(taxLevels, ntaxa, clr) %>% mutate(localmod = map(clr, model_each_species_case)) ->psDfLoc\n",
    "proc.time() - ptm"
   ]
  },
  {
   "cell_type": "code",
   "execution_count": null,
   "metadata": {},
   "outputs": [],
   "source": [
    "print(psDfLoc)"
   ]
  },
  {
   "cell_type": "code",
   "execution_count": null,
   "metadata": {
    "scrolled": true
   },
   "outputs": [],
   "source": [
    "psDfLoc %>% dplyr::select(-clr) %>% unnest(localmod) -> tmp"
   ]
  },
  {
   "cell_type": "code",
   "execution_count": null,
   "metadata": {},
   "outputs": [],
   "source": [
    "psDfLoc$taxLevels"
   ]
  },
  {
   "cell_type": "code",
   "execution_count": null,
   "metadata": {
    "collapsed": true
   },
   "outputs": [],
   "source": [
    "tmp %>% mutate(taxLevels = factor(taxLevels, levels = psDfLoc$taxLevels)) -> LocalTests"
   ]
  },
  {
   "cell_type": "markdown",
   "metadata": {},
   "source": [
    "## I want to show the local tests vs antibodies."
   ]
  },
  {
   "cell_type": "code",
   "execution_count": null,
   "metadata": {},
   "outputs": [],
   "source": [
    "LocalTests %>% head"
   ]
  },
  {
   "cell_type": "code",
   "execution_count": null,
   "metadata": {
    "scrolled": false
   },
   "outputs": [],
   "source": [
    "options(repr.plot.width=6, repr.plot.height=8)\n",
    "LocalTests %>% \n",
    "filter(antigen != \"MDS1\") %>%\n",
    "ggplot(aes(x = factor(taxLevels), y = clr_q.value)) + geom_point(size = 0.1) +\n",
    "geom_hline(yintercept = 0.2, color = 'grey') +\n",
    " geom_hline(yintercept = 0.05, color = 'blue') + geom_hline(yintercept = 0.01, color = 'green') +\n",
    "facet_wrap(~antigen + test) + scale_y_log10() +\n",
    "theme_bw() +\n",
    "theme(axis.text.x = element_text(angle = 90, hjust = 1, vjust = 0.5))\n",
    "\n",
    "ggsave('figures/LocalQEveryLevel.png')"
   ]
  },
  {
   "cell_type": "code",
   "execution_count": null,
   "metadata": {
    "scrolled": false
   },
   "outputs": [],
   "source": [
    "options(repr.plot.width=6, repr.plot.height=8)\n",
    "LocalTests %>% \n",
    "filter(antigen != \"MDS1\") %>%\n",
    "ggplot(aes(x = factor(taxLevels), y = clr_p.value)) + geom_point(size = 0.1) +\n",
    "geom_hline(yintercept = 0.2, color = 'grey') +\n",
    " geom_hline(yintercept = 0.05, color = 'blue') + geom_hline(yintercept = 0.01, color = 'green') +\n",
    "facet_wrap(~antigen + test) +# scale_y_log10() +\n",
    "theme_bw() +\n",
    "theme(axis.text.x = element_text(angle = 90, hjust = 1, vjust = 0.5))\n",
    "ggsave('figures/LocalPEveryLevel.png')"
   ]
  },
  {
   "cell_type": "code",
   "execution_count": null,
   "metadata": {
    "scrolled": false
   },
   "outputs": [],
   "source": [
    "options(repr.plot.width=6, repr.plot.height=8)\n",
    "LocalTests %>% \n",
    "filter(antigen != \"MDS1\") %>%\n",
    "ggplot(aes(x = factor(taxLevels), y = clr_p.value)) + geom_point(size = 0.1) +\n",
    "geom_hline(yintercept = 0.2, color = 'grey') +\n",
    " geom_hline(yintercept = 0.05, color = 'blue') + geom_hline(yintercept = 0.01, color = 'green') +\n",
    "facet_wrap(~antigen + test) + scale_y_log10() +\n",
    "theme_bw() +\n",
    "theme(axis.text.x = element_text(angle = 90, hjust = 1, vjust = 0.5))\n",
    "ggsave('figures/LocalPEveryLevel_LogScale.png')"
   ]
  },
  {
   "cell_type": "code",
   "execution_count": null,
   "metadata": {
    "collapsed": true
   },
   "outputs": [],
   "source": [
    "order_taxa_by_mds1 <- function(df){\n",
    "    # this has to be a model_each_species type of data frame\n",
    "    df %>% filter(antigen == 'MDS1' & test == 'gaussian') %>%\n",
    "    mutate(TaxonF = factor(Taxon, levels = Taxon[order(clr_estimate)])) -> mds1df\n",
    "    df %>% mutate(TaxonF = factor(Taxon, levels = levels(mds1df$TaxonF)))\n",
    "}"
   ]
  },
  {
   "cell_type": "markdown",
   "metadata": {},
   "source": [
    "To my annoyance, everything is labeled with IgG except gp120_12"
   ]
  },
  {
   "cell_type": "code",
   "execution_count": null,
   "metadata": {
    "scrolled": true
   },
   "outputs": [],
   "source": [
    "LocalTests %>%\n",
    "filter(taxLevels == 'Family') %>%\n",
    "order_taxa_by_mds1 %>%\n",
    "\n",
    "filter(\n",
    "    (antigen %in% c('IgG_gp41_Month_0', 'IgG_gp41_Month_6.5', 'IgG_Con.6.gp120.B_Month_6.5'))|\n",
    "    (antigen == 'Con.6.gp120.B_Month_12' & test == 'gaussian')\n",
    "      ) %>%\n",
    "mutate(antigen = factor(antigen,\n",
    "                        levels = c('IgG_gp41_Month_0', 'IgG_gp41_Month_6.5',\n",
    "                                   'IgG_Con.6.gp120.B_Month_6.5', 'Con.6.gp120.B_Month_12'))) %>%\n",
    "filter(clr_p.value < 0.05 & clr_q.value < 0.2) %>%\n",
    "dplyr::select(antigen:clr_estimate) %>%\n",
    "dplyr::select(-Intercept_estimate) %>%\n",
    "mutate(cordir = sign(clr_estimate)) %>%\n",
    "pass"
   ]
  },
  {
   "cell_type": "code",
   "execution_count": null,
   "metadata": {},
   "outputs": [],
   "source": [
    "LocalTests %>% pull(antigen) %>% unique"
   ]
  },
  {
   "cell_type": "code",
   "execution_count": null,
   "metadata": {},
   "outputs": [],
   "source": [
    "# Family Hits\n",
    "LocalTests %>%\n",
    "filter(taxLevels == 'Family') %>%\n",
    "order_taxa_by_mds1 %>%\n",
    "\n",
    "filter(\n",
    "    (antigen %in% c('IgG_gp41_Month_0', 'IgG_gp41_Month_6.5', 'IgG_Con.6.gp120.B_Month_6.5', \n",
    "                    'IgG_ZM96.gp140_Month_6.5','IgG_gp70_B.CaseA_V1_V2_Month_12'))|\n",
    "    (antigen == 'Con.6.gp120.B_Month_12' & test == 'gaussian')\n",
    "      ) %>%\n",
    "mutate(antigen = factor(antigen, levels = c(\n",
    "    'IgG_gp41_Month_0', 'IgG_gp41_Month_6.5', 'IgG_Con.6.gp120.B_Month_6.5', 'Con.6.gp120.B_Month_12',\n",
    "    'IgG_ZM96.gp140_Month_6.5','IgG_gp70_B.CaseA_V1_V2_Month_12'\n",
    "))) %>%\n",
    "pass -> tmp\n",
    "\n",
    "tmp$antigen %>% unique\n",
    "\n",
    "tmp %>% filter(clr_p.value < 0.05 & clr_q.value < 0.2) %>%\n",
    "pull(Taxon) %>% unique -> useFamily\n",
    "\n",
    "tmp %>% filter(Taxon %in% useFamily) %>%\n",
    "\n",
    "ggplot(aes(x = TaxonF, y = clr_estimate,\n",
    "           color = (clr_p.value < 0.05), shape =(clr_q.value < 0.2))) +\n",
    "geom_point(size = 3) + \n",
    "geom_errorbar(aes(ymin = clr_estimate - 2*clr_std.error, ymax = clr_estimate + 2*clr_std.error)) + \n",
    "theme_bw() +\n",
    "theme(axis.text.x = element_text(angle = 90, hjust = 1)) + geom_hline(yintercept = 0) +\n",
    "facet_wrap(~antigen, ncol = 1, scales = 'free_y') + xlab(\"Family Level Taxon\")\n",
    "# Show the censored ones accross - so this would be everything with at least one hit\n",
    "# but also show what they are in all cases.\n",
    "\n",
    "ggsave('figures/anyFamilyIgg.png', width = 6, height = 8)"
   ]
  },
  {
   "cell_type": "markdown",
   "metadata": {},
   "source": [
    "I think its worth digging into clostridia and Prophyromonidaceae with stacked bars"
   ]
  },
  {
   "cell_type": "markdown",
   "metadata": {},
   "source": [
    "# Proportionality heatmap\n",
    "\n",
    "Family level\n",
    "\n",
    "Lets come back to this after we've done the local tests. Since we need them to color code the axes."
   ]
  },
  {
   "cell_type": "code",
   "execution_count": null,
   "metadata": {},
   "outputs": [],
   "source": [
    "psDf %>% print"
   ]
  },
  {
   "cell_type": "code",
   "execution_count": null,
   "metadata": {},
   "outputs": [],
   "source": [
    "psDf %>% filter(taxLevels == 'Family') %>% dplyr::select(ps) %>% pull %>%.[[1]]"
   ]
  },
  {
   "cell_type": "code",
   "execution_count": null,
   "metadata": {},
   "outputs": [],
   "source": [
    "print(psDf)"
   ]
  },
  {
   "cell_type": "code",
   "execution_count": null,
   "metadata": {},
   "outputs": [],
   "source": [
    "#nFamilyTaxa <- NTaxaAtLevel %>% filter(taxLevels == 'Family') %>% pull(ntaxa)\n",
    "\n",
    "psDf %>% filter(taxLevels == 'Family') %>% dplyr::select(psNoZero) %>% pull %>%.[[1]] %>%\n",
    "otu_table %>% as.data.frame %>%\n",
    "pass -> myRel\n",
    "\n",
    "ptm = proc.time()\n",
    "phiBoot <- boot(data = myRel, statistic = boot_phi, R = 1000)\n",
    "proc.time() - ptm\n",
    "\n",
    "ptm = proc.time()\n",
    "tidyCI <- unwarn(\n",
    "    tidy(phiBoot,conf.int=TRUE,conf.method=\"bca\")\n",
    "    )\n",
    "proc.time() - ptm\n",
    "\n",
    "myRel %>% make_proportionality_matrix %>% \n",
    "         as.data.frame %>%\n",
    "         rownames_to_column(\"TaxonX\") %>% gather(TaxonY, phi, -TaxonX) %>%\n",
    "    filter(TaxonX != TaxonY) %>% data.frame(tidyCI) -> namedTidyCI"
   ]
  },
  {
   "cell_type": "code",
   "execution_count": null,
   "metadata": {},
   "outputs": [],
   "source": [
    "head(LocalTests)"
   ]
  },
  {
   "cell_type": "code",
   "execution_count": null,
   "metadata": {
    "collapsed": true
   },
   "outputs": [],
   "source": [
    "LocalTests %>% filter(test == 'gaussian' &\n",
    "                        antigen == 'MDS1' &\n",
    "                         clr_p.value <0.05 &\n",
    "                        clr_q.value < 0.2&\n",
    "                        taxLevels == \"Family\") -> tmp\n",
    "tmp %>% pull(Taxon) -> MDS1Fam\n",
    "tmp %>% filter(clr_estimate < 0) %>% pull(Taxon) -> lowMDS1Fam\n",
    "tmp %>% filter(clr_estimate >= 0) %>% pull(Taxon) -> highMDS1Fam"
   ]
  },
  {
   "cell_type": "markdown",
   "metadata": {},
   "source": [
    "https://stackoverflow.com/questions/48531987/incorporate-more-information-about-variables-on-axes-into-a-heatmap-in-ggplot/48532983#48532983"
   ]
  },
  {
   "cell_type": "markdown",
   "metadata": {},
   "source": [
    "I'd like to do this, but for gp41 baseline and gp120 as well."
   ]
  },
  {
   "cell_type": "code",
   "execution_count": null,
   "metadata": {},
   "outputs": [],
   "source": [
    "useFamily"
   ]
  },
  {
   "cell_type": "code",
   "execution_count": null,
   "metadata": {},
   "outputs": [],
   "source": [
    "LocalTests %>% head"
   ]
  },
  {
   "cell_type": "code",
   "execution_count": null,
   "metadata": {},
   "outputs": [],
   "source": [
    "reshape2::melt"
   ]
  },
  {
   "cell_type": "code",
   "execution_count": null,
   "metadata": {},
   "outputs": [],
   "source": [
    "targStat <- \"phi\"\n",
    "namedTidyCI %>% dplyr::select(TaxonX, TaxonY, targStat) %>% spread(key = TaxonY, value = targStat) %>%\n",
    "remove_rownames %>% column_to_rownames(\"TaxonX\") %>%\n",
    "as.dist %>% as.matrix -> phidata\n",
    "\n",
    "phi_dd <- as.dist(phidata)\n",
    "phi_hc <- hclust(phi_dd)\n",
    "\n",
    "phidata %>%\n",
    "#.[phi_hc$order, phi_hc$order] %>% # this way also worked just fine\n",
    "reshape2::melt() %>%\n",
    "mutate(Var1 = factor(Var1, levels = unique(phi_hc$labels)[phi_hc$order])) %>%\n",
    "mutate(Var2 = factor(Var2, levels = unique(phi_hc$labels)[phi_hc$order])) %>%\n",
    "pass-> tmp\n",
    "\n",
    "ggplot(tmp, aes(Var1, Var2, fill =(value))) + \n",
    "geom_tile() +\n",
    "  scale_fill_gradient(high = \"grey90\", low = \"red\", \n",
    "    space = \"Lab\", \n",
    "    name=\"phi\",\n",
    "                    limits = c(NA, 3), na.value = \"white\") +\n",
    "#  theme_minimal()+ # minimal theme\n",
    " theme(axis.text.x = element_text(\n",
    "     angle = 90, vjust = 1, size = 7, hjust = 1,\n",
    "     face = ifelse(levels(tmp$Var1) %in% useFamily, \"bold\", \"plain\"),\n",
    "     colour = ifelse(levels(tmp$Var1) %in% useFamily, \"black\", \"grey30\")\n",
    "                                 ),\n",
    "       axis.text.y = element_text(\n",
    "           size = 7,\n",
    "           face = ifelse(levels(tmp$Var1) %in% MDS1Fam, \"bold\", \"plain\"),\n",
    "           colour = ifelse(levels(tmp$Var1) %in% lowMDS1Fam, \"red\",\n",
    "                          ifelse(levels(tmp$Var1) %in% highMDS1Fam, \"blue\", \"grey30\"))\n",
    "       ))+\n",
    " coord_fixed() +\n",
    "labs(x = \"Family Any Igg\",y = \"Family MDS1 (red-low, blue-high)\" )-> p_phi_1\n",
    "p_phi_1\n",
    "# ggsave(\"figures/phi_vs_mds1_and_igg.png\", p_phi_1, width = 6, height = 6)"
   ]
  },
  {
   "cell_type": "code",
   "execution_count": null,
   "metadata": {
    "collapsed": true,
    "scrolled": true
   },
   "outputs": [],
   "source": [
    "LocalTests %>%\n",
    "filter(taxLevels == 'Family') %>%\n",
    "order_taxa_by_mds1 %>%\n",
    "\n",
    "filter(\n",
    "    (antigen %in% c('IgG_gp41_Month_0', 'IgG_gp41_Month_6.5', 'IgG_Con.6.gp120.B_Month_6.5',\n",
    "                   'IgG_ZM96.gp140_Month_6.5','IgG_gp70_B.CaseA_V1_V2_Month_12'))|\n",
    "    (antigen == 'Con.6.gp120.B_Month_12' & test == 'gaussian')\n",
    "      ) %>%\n",
    "mutate(antigen = factor(antigen, levels = c('IgG_gp41_Month_0', 'IgG_gp41_Month_6.5', 'IgG_Con.6.gp120.B_Month_6.5', 'Con.6.gp120.B_Month_12',\n",
    "                                           'IgG_ZM96.gp140_Month_6.5','IgG_gp70_B.CaseA_V1_V2_Month_12'))) %>%\n",
    "pass -> tmp\n",
    "\n",
    "tmp %>% dplyr::select(antigen, Taxon, clr_estimate, clr_p.value, clr_q.value) %>%\n",
    "mutate(clr_sign = sign(clr_estimate)) %>%\n",
    "mutate(isHit = ifelse(clr_p.value < 0.05 & clr_q.value < 0.2, 1, 0)) %>%\n",
    "mutate(Taxon = factor(Taxon, levels = unique(phi_hc$labels)[phi_hc$order])) %>%\n",
    "pass -> chorddata"
   ]
  },
  {
   "cell_type": "code",
   "execution_count": null,
   "metadata": {},
   "outputs": [],
   "source": [
    "targStat <- \"conf.low\"\n",
    "namedTidyCI %>% dplyr::select(TaxonX, TaxonY, targStat) %>% spread(key = TaxonY, value = targStat) %>%\n",
    "remove_rownames %>% column_to_rownames(\"TaxonX\") %>%\n",
    "as.dist %>% as.matrix -> phidata\n",
    "\n",
    "phi_dd <- as.dist(phidata)\n",
    "phi_hc <- hclust(phi_dd)\n",
    "\n",
    "phidata %>%\n",
    "#.[phi_hc$order, phi_hc$order] %>% # this way also worked just fine\n",
    "reshape2::melt() %>%\n",
    "mutate(Var1 = factor(Var1, levels = unique(phi_hc$labels)[phi_hc$order])) %>%\n",
    "mutate(Var2 = factor(Var2, levels = unique(phi_hc$labels)[phi_hc$order])) %>%\n",
    "pass-> tmp\n",
    "\n",
    "ggplot(tmp, aes(Var1, Var2, fill =(value))) + \n",
    "geom_tile() +\n",
    "  scale_fill_gradient(high = \"grey90\", low = \"red\", \n",
    "    space = \"Lab\", \n",
    "    name=\"phi\",\n",
    "                    limits = c(NA, 3), na.value = \"white\") +\n",
    "#  theme_minimal()+ # minimal theme\n",
    " theme(axis.text.x = element_text(\n",
    "     angle = 90, vjust = 1, size = 7, hjust = 1,\n",
    "     face = ifelse(levels(tmp$Var1) %in% useFamily, \"bold\", \"plain\"),\n",
    "     colour = ifelse(levels(tmp$Var1) %in% useFamily, \"black\", \"grey30\")\n",
    "                                 ),\n",
    "       axis.text.y = element_text(\n",
    "           size = 7,\n",
    "           face = ifelse(levels(tmp$Var1) %in% MDS1Fam, \"bold\", \"plain\"),\n",
    "           colour = ifelse(levels(tmp$Var1) %in% lowMDS1Fam, \"red\",\n",
    "                          ifelse(levels(tmp$Var1) %in% highMDS1Fam, \"blue\", \"grey30\"))\n",
    "       ))+\n",
    " coord_fixed() +\n",
    "labs(x = \"Family Any Igg\",y = \"Family MDS1 (red-low, blue-high)\" )-> p_phi_low\n",
    "p_phi_low\n",
    "\n",
    "# ggsave(\"figures/phi_vs_mds1_and_igg.png\", p_phi_1, width = 6, height = 6)"
   ]
  },
  {
   "cell_type": "code",
   "execution_count": null,
   "metadata": {},
   "outputs": [],
   "source": [
    "targStat <- \"conf.high\"\n",
    "namedTidyCI %>% dplyr::select(TaxonX, TaxonY, targStat) %>% spread(key = TaxonY, value = targStat) %>%\n",
    "remove_rownames %>% column_to_rownames(\"TaxonX\") %>%\n",
    "as.dist %>% as.matrix -> phidata\n",
    "\n",
    "phi_dd <- as.dist(phidata)\n",
    "phi_hc <- hclust(phi_dd)\n",
    "\n",
    "phidata %>%\n",
    "#.[phi_hc$order, phi_hc$order] %>% # this way also worked just fine\n",
    "reshape2::melt() %>%\n",
    "mutate(Var1 = factor(Var1, levels = unique(phi_hc$labels)[phi_hc$order])) %>%\n",
    "mutate(Var2 = factor(Var2, levels = unique(phi_hc$labels)[phi_hc$order])) %>%\n",
    "pass-> tmp\n",
    "\n",
    "ggplot(tmp, aes(Var1, Var2, fill =(value))) + \n",
    "geom_tile() +\n",
    "  scale_fill_gradient(high = \"grey90\", low = \"red\", \n",
    "    space = \"Lab\", \n",
    "    name=\"phi\",\n",
    "                    limits = c(NA, 3), na.value = \"white\") +\n",
    "#  theme_minimal()+ # minimal theme\n",
    " theme(axis.text.x = element_text(\n",
    "     angle = 90, vjust = 1, size = 7, hjust = 1,\n",
    "     face = ifelse(levels(tmp$Var1) %in% useFamily, \"bold\", \"plain\"),\n",
    "     colour = ifelse(levels(tmp$Var1) %in% useFamily, \"black\", \"grey30\")\n",
    "                                 ),\n",
    "       axis.text.y = element_text(\n",
    "           size = 7,\n",
    "           face = ifelse(levels(tmp$Var1) %in% MDS1Fam, \"bold\", \"plain\"),\n",
    "           colour = ifelse(levels(tmp$Var1) %in% lowMDS1Fam, \"red\",\n",
    "                          ifelse(levels(tmp$Var1) %in% highMDS1Fam, \"blue\", \"grey30\"))\n",
    "       ))+\n",
    " coord_fixed() +\n",
    "labs(x = \"Family Any Igg\",y = \"Family MDS1 (red-low, blue-high)\" )-> p_phi_high\n",
    "p_phi_high\n",
    "# ggsave(\"figures/phi_vs_mds1_and_igg.png\", p_phi_1, width = 6, height = 6)"
   ]
  },
  {
   "cell_type": "code",
   "execution_count": null,
   "metadata": {},
   "outputs": [],
   "source": [
    "ggplot(chorddata,\n",
    "    aes(x = Taxon, y = antigen, alpha = factor(isHit), color = factor(clr_sign))) +\n",
    "scale_alpha_discrete(range = c(0, 1)) +\n",
    "guides(alpha = FALSE) +\n",
    "theme_minimal() +\n",
    "     coord_fixed(ratio = 2) +\n",
    "scale_colour_manual(values = c(\"red\", \"blue\")) +\n",
    " theme(axis.text.x = element_text(\n",
    "     angle = 90, vjust = 0.5, size = 7, hjust = 1,\n",
    "     face = ifelse(levels(chorddata$Taxon) %in% useFamily, \"bold\", \"plain\"),\n",
    "     colour = ifelse(levels(chorddata$Taxon) %in% useFamily, \"black\", \"grey30\")),\n",
    "     plot.margin = unit(c(0,3,1,3), \"cm\")\n",
    "     ) +\n",
    "#guides(col = TRUE) +\n",
    "guides(color=guide_legend(title=\"Sign of GLM\")) +\n",
    "geom_point() -> guitar_chords\n",
    "\n",
    "\n",
    "\n",
    "par <- options()\n",
    "options(repr.plot.width=10, repr.plot.height= 5)\n",
    "guitar_chords\n",
    "options(par)"
   ]
  },
  {
   "cell_type": "code",
   "execution_count": null,
   "metadata": {},
   "outputs": [],
   "source": [
    "p_phi_1a <- p_phi_1 + \n",
    "theme(axis.text.x = element_blank(),\n",
    "     axis.title.x = element_blank(),\n",
    "     plot.margin = unit(c(1, 3, -5.5, 4), \"cm\"))\n",
    "\n",
    "par <- options()\n",
    "options(repr.plot.width=8, repr.plot.height= 8)\n",
    "\n",
    "p_phi_cord <- cowplot::plot_grid(p_phi_1a, guitar_chords, nrow = 2, align = \"v\")\n",
    "\n",
    "p_phi_cord\n",
    "\n",
    "#phi_legend <- cowplot::get_legend(p_phi_1)\n",
    "# cowplot::ggdraw(\n",
    "#     cowplot::plot_grid(\n",
    "#     cowplot::plot_grid(p_phi_1a, guitar_chords, ncol = 1, align = \"v\"),\n",
    "#       cowplot::plot_grid(phi_legend, NULL, ncol = 1),\n",
    "#       rel_widths = c(10,1)\n",
    "#         ))\n",
    "\n",
    " ggsave('figures/phi_heatmap_withlegend.png', width = 10, height = 10)\n",
    "\n",
    "options(par)"
   ]
  },
  {
   "cell_type": "markdown",
   "metadata": {},
   "source": [
    "# Stacked bars"
   ]
  },
  {
   "cell_type": "code",
   "execution_count": null,
   "metadata": {
    "collapsed": true
   },
   "outputs": [],
   "source": [
    "# More color-blind friendly colorbalettes\n",
    "#http://colorbrewer2.org/#type=qualitative&scheme=Paired&n=10\n",
    "cb10 <- c('#a6cee3','#1f78b4','#b2df8a','#33a02c','#fb9a99','#e31a1c','#fdbf6f','#ff7f00','#cab2d6','#6a3d9a')\n",
    "\n",
    "cb12 <- c('#a6cee3','#1f78b4','#b2df8a','#33a02c','#fb9a99','#e31a1c','#fdbf6f','#ff7f00','#cab2d6','#6a3d9a','#ffff99','#b15928')\n",
    "\n",
    "# Less color-blind friendly, but still nice.\n",
    "#https://sashat.me/2017/01/11/list-of-20-simple-distinct-colors/\n",
    "trub20 <- c('#e6194b','#3cb44b','#ffe119','#0082c8','#f58231','#911eb4','#46f0f0','#f032e6','#d2f53c','#fabebe','#008080','#e6beff','#aa6e28','#fffac8','#800000','#aaffc3','#808000','#ffd8b1','#000080','#808080','#FFFFFF','#000000')"
   ]
  },
  {
   "cell_type": "code",
   "execution_count": null,
   "metadata": {
    "collapsed": true
   },
   "outputs": [],
   "source": [
    "options(repr.plot.width=8, repr.plot.height= 4)"
   ]
  },
  {
   "cell_type": "code",
   "execution_count": null,
   "metadata": {},
   "outputs": [],
   "source": [
    "p_phy <- plot_bar(psN2, x = 'newname', fill = 'Phylum') + scale_fill_manual(values = cb10)  + xlab(\"\") +\n",
    "ggtitle(\"All Phyla\")+ theme_bw() +\n",
    "theme(axis.text.x = element_text(angle = 90, hjust = 1,, vjust = 0.5, size = 10),\n",
    "     strip.text.y = (element_text(angle = 90)))\n",
    "p_phy\n",
    "#ggsave('plots/Phyla_by_wuf1.png')"
   ]
  },
  {
   "cell_type": "code",
   "execution_count": null,
   "metadata": {},
   "outputs": [],
   "source": [
    "p_firm <-  subset_taxa(psN2, Phylum == 'Firmicutes') %>%\n",
    "plot_bar( x = 'newname', fill = 'Order') + scale_fill_manual(values = cb10) #+ theme_bw()\n",
    "p_firm\n",
    "#ggsave('plots/MostFirmicutesAreClostridiales.png')"
   ]
  },
  {
   "cell_type": "code",
   "execution_count": null,
   "metadata": {},
   "outputs": [],
   "source": [
    "p_clostridia <-  subset_taxa(psN2, Class == 'Clostridia') %>%\n",
    "plot_bar( x = 'newname', fill = 'Family') + scale_fill_manual(values = cb10)  + xlab(\"\") +\n",
    "ggtitle(\"Families of Order Clostridiales (All Class Clostridia)\")+ theme_bw() +\n",
    "theme(axis.text.x = element_text(angle = 90, hjust = 1,, vjust = 0.5, size = 10),\n",
    "     strip.text.y = (element_text(angle = 90)))\n",
    "p_clostridia"
   ]
  },
  {
   "cell_type": "code",
   "execution_count": null,
   "metadata": {
    "collapsed": true
   },
   "outputs": [],
   "source": [
    "# p_porph <-  subset_taxa(psN2, Family == 'Porphyromonadaceae') %>%\n",
    "# plot_bar( x = 'newname', fill = 'Genus') + scale_fill_manual(values = cb10) #+ theme_bw()\n",
    "# p_porph"
   ]
  },
  {
   "cell_type": "code",
   "execution_count": null,
   "metadata": {
    "collapsed": true
   },
   "outputs": [],
   "source": [
    "# p_bact <- subset_taxa(psN2, Phylum == 'Bacteroidetes') %>% # all class (Bacteroidia), order (Bacteroidales)\n",
    "# plot_bar(x = 'newname', fill = 'Family') + scale_fill_manual(values = cb10) #+ theme_bw()\n",
    "# p\n",
    "\n",
    "# ggsave('figures/Bacteroidetes_Families.png')"
   ]
  },
  {
   "cell_type": "code",
   "execution_count": null,
   "metadata": {},
   "outputs": [],
   "source": [
    "p_ClosXI <- subset_taxa(psN2, Family == 'Clostridiales_Incertae_Sedis_XI') %>%\n",
    "plot_bar( x = 'newname', fill = 'Genus') + scale_fill_manual(values = cb10) + xlab(\"\") +\n",
    "ggtitle(\"Genera of Family Clostridiales_Incertae_Sedis_XI\")+ theme_bw() +\n",
    "theme(axis.text.x = element_text(angle = 90, hjust = 1,, vjust = 0.5, size = 10),\n",
    "     strip.text.y = (element_text(angle = 90)))\n",
    "p_ClosXI\n",
    "ggsave('figures/Clostridiales_Incertae_Sedis_XI_Genus.png')"
   ]
  },
  {
   "cell_type": "code",
   "execution_count": null,
   "metadata": {},
   "outputs": [],
   "source": [
    "\n",
    "p_Bact <- subset_taxa(psN2, Phylum == 'Bacteroidetes') %>%\n",
    "plot_bar( x = 'newname', fill = 'Family') + scale_fill_manual(values = cb10) + xlab(\"\") +\n",
    "ggtitle(\"Families of Class Bacteroidetes (All Order Bacteroidiales)\")+ theme_bw() +\n",
    "theme(axis.text.x = element_text(angle = 90, hjust = 1,, vjust = 0.5, size = 10),\n",
    "     strip.text.y = (element_text(angle = 90)))\n",
    "p_Bact\n",
    "ggsave('figures/Bacteroides.png')"
   ]
  },
  {
   "cell_type": "code",
   "execution_count": null,
   "metadata": {
    "collapsed": true
   },
   "outputs": [],
   "source": [
    "lay <- rbind(c(1,2), c(3,4))"
   ]
  },
  {
   "cell_type": "code",
   "execution_count": null,
   "metadata": {},
   "outputs": [],
   "source": [
    "options(repr.plot.width=14, repr.plot.height= 8)\n",
    "grid.arrange(p_phy, p_Bact,p_clostridia,p_ClosXI, layout_matrix = lay)"
   ]
  },
  {
   "cell_type": "code",
   "execution_count": null,
   "metadata": {
    "collapsed": true
   },
   "outputs": [],
   "source": [
    "stacked_bars <- arrangeGrob(\n",
    "    p_phy, p_Bact,p_clostridia,p_ClosXI, layout_matrix = lay\n",
    ")\n",
    "ggsave('figures/stacked_bars.png', stacked_bars, width = 14, height = 8)"
   ]
  },
  {
   "cell_type": "markdown",
   "metadata": {},
   "source": [
    "# Exporting OTU tables and Taxa tables at each agglomeration level"
   ]
  },
  {
   "cell_type": "code",
   "execution_count": null,
   "metadata": {
    "collapsed": true
   },
   "outputs": [],
   "source": [
    "psDf %>%\n",
    "mutate(OTU = map(ps, ~data.frame(otu_table(.)))) %>%\n",
    "mutate(Tax = map(ps, ~data.frame(tax_table(.)))) %>%\n",
    "mutate(OTUCount = map (psCount, ~data.frame(otu_table(.)))) %>%\n",
    "pass -> psDf1\n"
   ]
  },
  {
   "cell_type": "code",
   "execution_count": null,
   "metadata": {},
   "outputs": [],
   "source": [
    "print(psDf1)"
   ]
  },
  {
   "cell_type": "code",
   "execution_count": null,
   "metadata": {
    "collapsed": true
   },
   "outputs": [],
   "source": [
    "# Show which species level OTUs are contained in each agglomerated group:\n",
    "psDf1 %>%\n",
    ".[1:5,] %>%\n",
    "mutate(TaxIdx = map(Tax, function(df){\n",
    "    df %>%\n",
    "    mutate(tag = as.character(tag), oldGroups = as.character(oldGroups)) %>%\n",
    "    dplyr::select(tag, oldGroups) %>%\n",
    "    mutate(oldGroups = strsplit(oldGroups, \",\")) %>%\n",
    "    unnest(oldGroups)\n",
    "})) %>%\n",
    "dplyr::select(taxLevels, TaxIdx) %>%\n",
    "unnest(TaxIdx) %>%\n",
    "mutate(oldGroups = trimws(oldGroups)) %>% # Some of these have leading or trailing whitespace\n",
    "spread(taxLevels, tag) %>%\n",
    "dplyr::select(oldGroups, Phylum, Class, Order, Family, Genus) %>%\n",
    "pass -> taxGroupMapping\n",
    "write_csv(taxGroupMapping, 'tables/taxGroupMapping.csv')"
   ]
  },
  {
   "cell_type": "code",
   "execution_count": null,
   "metadata": {
    "collapsed": true
   },
   "outputs": [],
   "source": [
    "# Print out each otu table (relative abundances).\n",
    "walk2(psDf1$taxLevels, psDf1$OTU, \n",
    "      ~write.csv(.y, file = paste0(\"tables/OTU/otu_\",.x, \".csv\")))"
   ]
  },
  {
   "cell_type": "code",
   "execution_count": null,
   "metadata": {
    "collapsed": true
   },
   "outputs": [],
   "source": [
    "# Print out each otu table (counts).\n",
    "walk2(psDf1$taxLevels, psDf1$OTUCount, \n",
    "      ~write.csv(.y, file = paste0(\"tables/OTU/otuCount_\",.x, \".csv\")))"
   ]
  },
  {
   "cell_type": "code",
   "execution_count": null,
   "metadata": {
    "collapsed": true
   },
   "outputs": [],
   "source": [
    "# Print out each taxonomy table.\n",
    "walk2(psDf1$taxLevels, psDf1$Tax, \n",
    "      ~write.csv(.y, file = paste0(\"tables/Tax/tax_\",.x, \".csv\")))"
   ]
  },
  {
   "cell_type": "code",
   "execution_count": null,
   "metadata": {},
   "outputs": [],
   "source": []
  }
 ],
 "metadata": {
  "kernelspec": {
   "display_name": "R [conda env:nyvac-lab-2]",
   "language": "R",
   "name": "conda-env-nyvac-lab-2-r"
  },
  "language_info": {
   "codemirror_mode": "r",
   "file_extension": ".r",
   "mimetype": "text/x-r-source",
   "name": "R",
   "pygments_lexer": "r",
   "version": "3.4.1"
  }
 },
 "nbformat": 4,
 "nbformat_minor": 2
}
